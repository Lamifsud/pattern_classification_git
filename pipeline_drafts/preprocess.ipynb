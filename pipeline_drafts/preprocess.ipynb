{
 "cells": [
  {
   "cell_type": "code",
   "execution_count": 3,
   "metadata": {},
   "outputs": [
    {
     "name": "stdout",
     "output_type": "stream",
     "text": [
      "The autoreload extension is already loaded. To reload it, use:\n",
      "  %reload_ext autoreload\n"
     ]
    }
   ],
   "source": [
    "#from structure_and_load import load\n",
    "import matplotlib.pyplot as plt \n",
    "import numpy as np\n",
    "import pandas as pd\n",
    "import scipy.ndimage as spn \n",
    "import seaborn as sns\n",
    "\n",
    "from sklearn.preprocessing import StandardScaler\n",
    "from sklearn.ensemble import HistGradientBoostingClassifier\n",
    "from sklearn.model_selection import StratifiedShuffleSplit\n",
    "from sklearn.pipeline import make_pipeline\n",
    "\n",
    "from open_data  import matlab_file\n",
    "from structure_data import  manage\n",
    "from measures import ISI, FiringRate, tools\n",
    "from classify import HistGrad\n",
    "\n",
    "import re\n",
    "import neo \n",
    "from neo.core import Event\n",
    "from quantities import s \n",
    "from quantities import millisecond as ms\n",
    "\n",
    "\n",
    "import os\n",
    "import sys\n",
    "\n",
    "%load_ext autoreload\n",
    "%autoreload 2"
   ]
  },
  {
   "cell_type": "markdown",
   "metadata": {},
   "source": [
    "# Load and format data"
   ]
  },
  {
   "cell_type": "markdown",
   "metadata": {},
   "source": [
    "### Load data"
   ]
  },
  {
   "cell_type": "code",
   "execution_count": 4,
   "metadata": {},
   "outputs": [
    {
     "name": "stdout",
     "output_type": "stream",
     "text": [
      "\n",
      "43 files loaded\n"
     ]
    }
   ],
   "source": [
    "#Load\n",
    "session, data_path, info_path = matlab_file.from_lab(lab_desktop=False, session='t150204001')\n",
    "data, load_info = matlab_file.open(data_path)\n",
    "session_info_raw = matlab_file.clean(info_path)"
   ]
  },
  {
   "cell_type": "code",
   "execution_count": 5,
   "metadata": {},
   "outputs": [
    {
     "name": "stdout",
     "output_type": "stream",
     "text": [
      "Complete unit found ! \n",
      "loading index = 32\n",
      "matfile : t150204001_probe1_contact3_unit1.mat\n"
     ]
    },
    {
     "data": {
      "text/plain": [
       "['P1-6-1', 'P2-24-1', 'P1-19-1', 'P1-17-1', 'P1-12-1']"
      ]
     },
     "execution_count": 5,
     "metadata": {},
     "output_type": "execute_result"
    }
   ],
   "source": [
    "# get sessions and units information (unit, prob, elitrials)\n",
    "info_units,  info_session = manage.info(load_info, session_info_raw, session)\n",
    "unit_label, unit_labelProbe1, unit_labelProbe2, count_unitProbe = manage.units_label(info_units)\n",
    "# manage elitrials format\n",
    "info_session['elitrials'] = info_session['elitrials'].apply(manage.elitrials)\n",
    "# get unit's index without eli trials \n",
    "completeUnit = manage.CompleteTasktime(info_session, load_info, session)\n",
    "unit_label[:5]"
   ]
  },
  {
   "cell_type": "code",
   "execution_count": 6,
   "metadata": {},
   "outputs": [],
   "source": [
    "spike_times, task_times, target_info = matlab_file.extract_data(\\\n",
    "        load_info, data, target_keys_OFF=['SC1_dir', 'SC2_dir', 'SC3_dir', 'Trial_type'],\\\n",
    "        target_keys_ON=['SC1_dir', 'SC2_dir', 'SC3_dir', 'Trial_type'], \\\n",
    "        event_keys_OFF=['Sel_OFF', 'SC1_OFF', 'SC2_OFF', 'SC3_OFF'])"
   ]
  },
  {
   "cell_type": "markdown",
   "metadata": {},
   "source": [
    "### Format spike times "
   ]
  },
  {
   "cell_type": "code",
   "execution_count": 7,
   "metadata": {},
   "outputs": [
    {
     "data": {
      "text/plain": [
       "43"
      ]
     },
     "execution_count": 7,
     "metadata": {},
     "output_type": "execute_result"
    }
   ],
   "source": [
    "len(task_times)"
   ]
  },
  {
   "cell_type": "code",
   "execution_count": 8,
   "metadata": {},
   "outputs": [],
   "source": [
    "event_labels = matlab_file.get_event_labels(task_times)\n",
    "event_times = matlab_file.get_event_times(task_times, event_labels)\n",
    "# reshape times by trials / periods for each neuron + Neo format\n",
    "trials_ts, df_task_ts_by_neuron, events = manage.events_by_trial(event_times, event_labels)"
   ]
  },
  {
   "cell_type": "code",
   "execution_count": 9,
   "metadata": {},
   "outputs": [
    {
     "name": "stdout",
     "output_type": "stream",
     "text": [
      "times as list : [354096 355172 356491 357799 359134 360433 361087]\n",
      "times as neo events : [354096. 355172. 356491. 357799. 359134. 360433. 361087.] ms\n",
      "spike train sample : [    334    5067    6996 ... 3658225 3659812 3660582]\n",
      "events : ['Touch_time', 'Sel_ON', 'SC1_ON', 'SC2_ON', 'SC3_ON', 'Go_time', 'Target_time']\n",
      "targets : dict_keys(['Touch_time', 'Sel_ON', 'SC1_ON', 'SC2_ON', 'SC3_ON', 'Go_time', 'Target_time'])\n"
     ]
    }
   ],
   "source": [
    "unit_ = 32\n",
    "trial_ = 12\n",
    "print(f'times as list : {trials_ts[unit_][1][trial_]}')\n",
    "print(f'times as neo events : {events[unit_][1][trial_].times}')\n",
    "print(f'spike train sample : {spike_times[0][1]}\\nevents : {event_labels}\\ntargets : {task_times[0][1].keys()}')\n"
   ]
  },
  {
   "cell_type": "code",
   "execution_count": 10,
   "metadata": {},
   "outputs": [
    {
     "data": {
      "text/html": [
       "<div>\n",
       "<style scoped>\n",
       "    .dataframe tbody tr th:only-of-type {\n",
       "        vertical-align: middle;\n",
       "    }\n",
       "\n",
       "    .dataframe tbody tr th {\n",
       "        vertical-align: top;\n",
       "    }\n",
       "\n",
       "    .dataframe thead th {\n",
       "        text-align: right;\n",
       "    }\n",
       "</style>\n",
       "<table border=\"1\" class=\"dataframe\">\n",
       "  <thead>\n",
       "    <tr style=\"text-align: right;\">\n",
       "      <th></th>\n",
       "      <th>Touch_time</th>\n",
       "      <th>Sel_ON</th>\n",
       "      <th>SC1_ON</th>\n",
       "      <th>SC2_ON</th>\n",
       "      <th>SC3_ON</th>\n",
       "      <th>Go_time</th>\n",
       "      <th>Target_time</th>\n",
       "    </tr>\n",
       "  </thead>\n",
       "  <tbody>\n",
       "    <tr>\n",
       "      <th>171</th>\n",
       "      <td>3427744</td>\n",
       "      <td>3428813</td>\n",
       "      <td>3430132</td>\n",
       "      <td>3431440</td>\n",
       "      <td>3432749</td>\n",
       "      <td>3434034</td>\n",
       "      <td>3434577</td>\n",
       "    </tr>\n",
       "    <tr>\n",
       "      <th>172</th>\n",
       "      <td>3488819</td>\n",
       "      <td>3489885</td>\n",
       "      <td>3491206</td>\n",
       "      <td>3492515</td>\n",
       "      <td>3493823</td>\n",
       "      <td>3495121</td>\n",
       "      <td>3495791</td>\n",
       "    </tr>\n",
       "    <tr>\n",
       "      <th>173</th>\n",
       "      <td>3498993</td>\n",
       "      <td>3500111</td>\n",
       "      <td>3501419</td>\n",
       "      <td>3502727</td>\n",
       "      <td>3504049</td>\n",
       "      <td>3505334</td>\n",
       "      <td>3506030</td>\n",
       "    </tr>\n",
       "    <tr>\n",
       "      <th>174</th>\n",
       "      <td>3518800</td>\n",
       "      <td>3519868</td>\n",
       "      <td>3521190</td>\n",
       "      <td>3522498</td>\n",
       "      <td>3523823</td>\n",
       "      <td>3525133</td>\n",
       "      <td>3525652</td>\n",
       "    </tr>\n",
       "    <tr>\n",
       "      <th>175</th>\n",
       "      <td>3534627</td>\n",
       "      <td>3535700</td>\n",
       "      <td>3537009</td>\n",
       "      <td>3538317</td>\n",
       "      <td>3539639</td>\n",
       "      <td>3540937</td>\n",
       "      <td>3541739</td>\n",
       "    </tr>\n",
       "  </tbody>\n",
       "</table>\n",
       "</div>"
      ],
      "text/plain": [
       "     Touch_time   Sel_ON   SC1_ON   SC2_ON   SC3_ON  Go_time  Target_time\n",
       "171     3427744  3428813  3430132  3431440  3432749  3434034      3434577\n",
       "172     3488819  3489885  3491206  3492515  3493823  3495121      3495791\n",
       "173     3498993  3500111  3501419  3502727  3504049  3505334      3506030\n",
       "174     3518800  3519868  3521190  3522498  3523823  3525133      3525652\n",
       "175     3534627  3535700  3537009  3538317  3539639  3540937      3541739"
      ]
     },
     "execution_count": 10,
     "metadata": {},
     "output_type": "execute_result"
    }
   ],
   "source": [
    "# get dataframe with each events times per trials for a complete session\n",
    "tot_trials_in_task = trials_ts[completeUnit][1].shape[0]\n",
    "df_task_ts = pd.DataFrame(trials_ts[completeUnit][1], columns=event_labels, index=np.arange(0, tot_trials_in_task))\n",
    "df_task_ts.tail()"
   ]
  },
  {
   "cell_type": "markdown",
   "metadata": {},
   "source": [
    "### Format target"
   ]
  },
  {
   "cell_type": "code",
   "execution_count": 11,
   "metadata": {},
   "outputs": [
    {
     "data": {
      "text/html": [
       "<div>\n",
       "<style scoped>\n",
       "    .dataframe tbody tr th:only-of-type {\n",
       "        vertical-align: middle;\n",
       "    }\n",
       "\n",
       "    .dataframe tbody tr th {\n",
       "        vertical-align: top;\n",
       "    }\n",
       "\n",
       "    .dataframe thead th {\n",
       "        text-align: right;\n",
       "    }\n",
       "</style>\n",
       "<table border=\"1\" class=\"dataframe\">\n",
       "  <thead>\n",
       "    <tr style=\"text-align: right;\">\n",
       "      <th></th>\n",
       "      <th>trial_type</th>\n",
       "      <th>position</th>\n",
       "      <th>type_and_pos</th>\n",
       "    </tr>\n",
       "  </thead>\n",
       "  <tbody>\n",
       "    <tr>\n",
       "      <th>0</th>\n",
       "      <td>1</td>\n",
       "      <td>2</td>\n",
       "      <td>0</td>\n",
       "    </tr>\n",
       "    <tr>\n",
       "      <th>1</th>\n",
       "      <td>1</td>\n",
       "      <td>2</td>\n",
       "      <td>0</td>\n",
       "    </tr>\n",
       "    <tr>\n",
       "      <th>2</th>\n",
       "      <td>1</td>\n",
       "      <td>3</td>\n",
       "      <td>1</td>\n",
       "    </tr>\n",
       "    <tr>\n",
       "      <th>3</th>\n",
       "      <td>1</td>\n",
       "      <td>3</td>\n",
       "      <td>1</td>\n",
       "    </tr>\n",
       "    <tr>\n",
       "      <th>4</th>\n",
       "      <td>1</td>\n",
       "      <td>4</td>\n",
       "      <td>2</td>\n",
       "    </tr>\n",
       "    <tr>\n",
       "      <th>...</th>\n",
       "      <td>...</td>\n",
       "      <td>...</td>\n",
       "      <td>...</td>\n",
       "    </tr>\n",
       "    <tr>\n",
       "      <th>171</th>\n",
       "      <td>1</td>\n",
       "      <td>3</td>\n",
       "      <td>1</td>\n",
       "    </tr>\n",
       "    <tr>\n",
       "      <th>172</th>\n",
       "      <td>2</td>\n",
       "      <td>3</td>\n",
       "      <td>4</td>\n",
       "    </tr>\n",
       "    <tr>\n",
       "      <th>173</th>\n",
       "      <td>2</td>\n",
       "      <td>4</td>\n",
       "      <td>5</td>\n",
       "    </tr>\n",
       "    <tr>\n",
       "      <th>174</th>\n",
       "      <td>2</td>\n",
       "      <td>4</td>\n",
       "      <td>5</td>\n",
       "    </tr>\n",
       "    <tr>\n",
       "      <th>175</th>\n",
       "      <td>2</td>\n",
       "      <td>4</td>\n",
       "      <td>5</td>\n",
       "    </tr>\n",
       "  </tbody>\n",
       "</table>\n",
       "<p>176 rows × 3 columns</p>\n",
       "</div>"
      ],
      "text/plain": [
       "     trial_type  position  type_and_pos\n",
       "0             1         2             0\n",
       "1             1         2             0\n",
       "2             1         3             1\n",
       "3             1         3             1\n",
       "4             1         4             2\n",
       "..          ...       ...           ...\n",
       "171           1         3             1\n",
       "172           2         3             4\n",
       "173           2         4             5\n",
       "174           2         4             5\n",
       "175           2         4             5\n",
       "\n",
       "[176 rows x 3 columns]"
      ]
     },
     "execution_count": 11,
     "metadata": {},
     "output_type": "execute_result"
    }
   ],
   "source": [
    "target = manage.target_by_trials(target_info, completeUnit)\n",
    "target"
   ]
  },
  {
   "cell_type": "markdown",
   "metadata": {},
   "source": [
    "### Format trials"
   ]
  },
  {
   "cell_type": "code",
   "execution_count": 12,
   "metadata": {},
   "outputs": [],
   "source": [
    "# align times by trials for each neurons\n",
    "df_task_ts_by_neuron = manage.time_by_trials(df_task_ts_by_neuron, df_task_ts, event_labels)\n",
    "df_task_ts_by_neuron[0][1]\n",
    "\n",
    "# split the spike time vector by trial\n",
    "spk_trials, spike_train_trial = manage.spike_ts_by_trial(trials_ts, spike_times)\n",
    "spikes_times_aligned = manage.spike_ts_aligned(df_task_ts, df_task_ts_by_neuron, spike_times, unit_label, spike_train_trial)"
   ]
  },
  {
   "cell_type": "markdown",
   "metadata": {},
   "source": [
    "# Raster plot"
   ]
  },
  {
   "cell_type": "code",
   "execution_count": 13,
   "metadata": {},
   "outputs": [
    {
     "data": {
      "image/png": "[encoded data removed]",
      "text/plain": [
       "<Figure size 3000x1000 with 1 Axes>"
      ]
     },
     "metadata": {},
     "output_type": "display_data"
    }
   ],
   "source": [
    "n_neurons = spikes_times_aligned.shape[0]\n",
    "\n",
    "t = 0\n",
    "event_vector = df_task_ts.loc[t]\n",
    "\n",
    "plt.figure(figsize=(30, 10))  # Ajustez la taille de la figure selon vos besoins\n",
    "\n",
    "# Parcourir tous les neurones et tracer leur spike train\n",
    "for n in range(n_neurons): \n",
    "    spiketrain = spikes_times_aligned[n][t]['spike_train']\n",
    "    if len(spiketrain) > 0 and spiketrain[0] != 0:      \n",
    "        plt.eventplot(spiketrain.magnitude, linelengths=0.75, lineoffsets=n, color='black')\n",
    "for i in range(n_neurons - 1):\n",
    "    plt.hlines(i+0.5, xmin=event_vector.min(), xmax=event_vector.max(), colors='gray', linestyles='solid', linewidth=0.5)\n",
    "\n",
    "# Définir les étiquettes de l'axe x et l'axe y\n",
    "plt.xticks(event_vector.values, event_labels, fontsize=7)\n",
    "plt.yticks(range(n_neurons), [f\"{i}\" for i in range(n_neurons)], fontsize=8)\n",
    "plt.title(f\"Spike Trains for Trial {t}\", fontsize=16)\n",
    "\n",
    "# Ajuster les limites des axes\n",
    "plt.xlim(event_vector.min(), event_vector.max())\n",
    "plt.ylim(-0.5, 42.5)\n",
    "\n",
    "plt.show()\n"
   ]
  },
  {
   "cell_type": "markdown",
   "metadata": {},
   "source": [
    "# Compute measure"
   ]
  },
  {
   "cell_type": "markdown",
   "metadata": {},
   "source": [
    "## Instantaneous Firing rate "
   ]
  },
  {
   "cell_type": "code",
   "execution_count": 14,
   "metadata": {},
   "outputs": [],
   "source": [
    "sigma = [100]\n",
    "\n",
    "max_length = tools.get_max_length_trials(spikes_times_aligned[-1])"
   ]
  },
  {
   "cell_type": "code",
   "execution_count": 18,
   "metadata": {},
   "outputs": [],
   "source": [
    "spikes_binarized = FiringRate.binarize_spike_times(spikes_times_aligned, max_length)\n",
    "spike_convolved = FiringRate.convolve_spike_binarized(spikes_binarized, sigma)"
   ]
  },
  {
   "cell_type": "code",
   "execution_count": 21,
   "metadata": {},
   "outputs": [
    {
     "data": {
      "text/plain": [
       "[<matplotlib.lines.Line2D at 0x76d3bbc75d90>]"
      ]
     },
     "execution_count": 21,
     "metadata": {},
     "output_type": "execute_result"
    },
    {
     "data": {
      "image/png": "[encoded data removed]",
      "text/plain": [
       "<Figure size 640x480 with 1 Axes>"
      ]
     },
     "metadata": {},
     "output_type": "display_data"
    }
   ],
   "source": [
    "plt.plot(spikes_binarized[128,:,0])\n",
    "plt.plot(spike_convolved[128,:,0])"
   ]
  },
  {
   "cell_type": "code",
   "execution_count": 22,
   "metadata": {},
   "outputs": [],
   "source": [
    "lab_desktop = False\n",
    "if lab_desktop : \n",
    "    result_path = '/home/INT/mifsud.l/Bureau/pattern_classification_git/results/'\n",
    "\n",
    "else : \n",
    "    result_path = '/home/laurie/Bureau/pattern_classification_git/results/'"
   ]
  },
  {
   "cell_type": "code",
   "execution_count": 23,
   "metadata": {},
   "outputs": [
    {
     "data": {
      "text/plain": [
       "'/home/laurie/Bureau/pattern_classification_git/results/'"
      ]
     },
     "execution_count": 23,
     "metadata": {},
     "output_type": "execute_result"
    }
   ],
   "source": [
    "result_path"
   ]
  },
  {
   "cell_type": "code",
   "execution_count": 24,
   "metadata": {},
   "outputs": [],
   "source": [
    "target.to_csv(result_path + 'target.csv')"
   ]
  },
  {
   "cell_type": "code",
   "execution_count": 25,
   "metadata": {},
   "outputs": [],
   "source": [
    "np.save(result_path + 'spike_convolved.npy', spike_convolved)"
   ]
  }
 ],
 "metadata": {
  "interpreter": {
   "hash": "1677e2dcc864b936159311a59e521507be7f68e5fb28f83b5a0cd9cf7d30abf7"
  },
  "kernelspec": {
   "display_name": "Python 3.11.4 ('env_classif')",
   "language": "python",
   "name": "python3"
  },
  "language_info": {
   "codemirror_mode": {
    "name": "ipython",
    "version": 3
   },
   "file_extension": ".py",
   "mimetype": "text/x-python",
   "name": "python",
   "nbconvert_exporter": "python",
   "pygments_lexer": "ipython3",
   "version": "3.11.4"
  }
 },
 "nbformat": 4,
 "nbformat_minor": 2
}
