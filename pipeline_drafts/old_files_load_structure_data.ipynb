{
 "cells": [
  {
   "cell_type": "code",
   "execution_count": 2,
   "metadata": {},
   "outputs": [
    {
     "name": "stdout",
     "output_type": "stream",
     "text": [
      "The autoreload extension is already loaded. To reload it, use:\n",
      "  %reload_ext autoreload\n"
     ]
    }
   ],
   "source": [
    "from structure_and_load import load, structure\n",
    "import scipy.io as sio\n",
    "import numpy as np\n",
    "import os\n",
    "import re\n",
    "import matplotlib.pyplot as plt\n",
    "import pandas as pd\n",
    "import numpy as np\n",
    "from neo.core import SpikeTrain, Event\n",
    "from quantities import s\n",
    "%load_ext autoreload\n",
    "%autoreload 2"
   ]
  },
  {
   "cell_type": "code",
   "execution_count": 3,
   "metadata": {},
   "outputs": [
    {
     "name": "stdout",
     "output_type": "stream",
     "text": [
      "/home/laurie/Bureau/pattern_classification/data/Tommy/ \n",
      " /home/laurie/Bureau/pattern_classification/data/MG_behav_pos.mat\n"
     ]
    }
   ],
   "source": [
    "# set path to data\n",
    "spike_path = '/home/laurie/Bureau/pattern_classification/data/Tommy/'\n",
    "task_path = '/home/laurie/Bureau/pattern_classification/data/MG_behav_pos.mat'\n",
    "print(spike_path, '\\n',task_path)\n"
   ]
  },
  {
   "cell_type": "code",
   "execution_count": 317,
   "metadata": {},
   "outputs": [],
   "source": [
    "# init the class Data, split and sort contacts/units by probe from files\n",
    "data2 = load.Data2(spike_path, task_path, split_probe=False)\n",
    "\n",
    "# get spikes times by unit and probe (or not)\n",
    "contact, units, units_t, files_ = data2.sort_by_prob()\n",
    "#spike_times, units_label = data.get_spike_times(split_probe=split_probe)"
   ]
  },
  {
   "cell_type": "code",
   "execution_count": 318,
   "metadata": {},
   "outputs": [
    {
     "data": {
      "text/plain": [
       "[['p1-10',\n",
       "  'p1-15',\n",
       "  'p1-2',\n",
       "  'p2-17',\n",
       "  'p2-20',\n",
       "  'p2-22',\n",
       "  'p2-19',\n",
       "  'p2-13',\n",
       "  'p1-12',\n",
       "  'p2-17b',\n",
       "  'p1-6',\n",
       "  'p2-23',\n",
       "  'p1-9',\n",
       "  'p1-16',\n",
       "  'p2-18',\n",
       "  'p2-15',\n",
       "  'p2-12',\n",
       "  'p2-6',\n",
       "  'p2-21',\n",
       "  'p1-4',\n",
       "  'p1-14']]"
      ]
     },
     "execution_count": 318,
     "metadata": {},
     "output_type": "execute_result"
    }
   ],
   "source": [
    "contact"
   ]
  },
  {
   "cell_type": "code",
   "execution_count": 307,
   "metadata": {},
   "outputs": [],
   "source": [
    "contacts_probes = [['p1-10', 'p1-15', 'p1-2', 'p2-17', 'p2-20', 'p2-22', 'p2-19', 'p2-13', 'p1-12', 'p2-17', 'p1-6', 'p2-23', 'p1-9', 'p1-16', 'p2-18', 'p2-15', 'p2-12', 'p2-6', 'p2-21', 'p1-4', 'p1-14']]\n",
    "\n",
    "# Extract the numeric part and sort the list alphanumerically\n",
    "result = sorted(contacts_probes[0], key=lambda x: (int(x.split('-')[1]), x))\n",
    "result = sorted(contacts_probes[0], key=lambda x: (int(x.split('-')[0].replace('p', '')), int(x.split('-')[1])))\n",
    "\n"
   ]
  },
  {
   "cell_type": "code",
   "execution_count": 313,
   "metadata": {},
   "outputs": [
    {
     "data": {
      "text/plain": [
       "False"
      ]
     },
     "execution_count": 313,
     "metadata": {},
     "output_type": "execute_result"
    }
   ],
   "source": [
    "result == 'p1-2'"
   ]
  },
  {
   "cell_type": "code",
   "execution_count": 265,
   "metadata": {},
   "outputs": [
    {
     "ename": "AttributeError",
     "evalue": "'list' object has no attribute 'split'",
     "output_type": "error",
     "traceback": [
      "\u001b[0;31m---------------------------------------------------------------------------\u001b[0m",
      "\u001b[0;31mAttributeError\u001b[0m                            Traceback (most recent call last)",
      "Cell \u001b[0;32mIn[265], line 1\u001b[0m\n\u001b[0;32m----> 1\u001b[0m \u001b[38;5;28;43msorted\u001b[39;49m\u001b[43m(\u001b[49m\u001b[43mcontact\u001b[49m\u001b[43m,\u001b[49m\u001b[43m \u001b[49m\u001b[43mkey\u001b[49m\u001b[38;5;241;43m=\u001b[39;49m\u001b[38;5;28;43;01mlambda\u001b[39;49;00m\u001b[43m \u001b[49m\u001b[43mx\u001b[49m\u001b[43m:\u001b[49m\u001b[43m \u001b[49m\u001b[43m(\u001b[49m\u001b[38;5;28;43mint\u001b[39;49m\u001b[43m(\u001b[49m\u001b[43mx\u001b[49m\u001b[38;5;241;43m.\u001b[39;49m\u001b[43msplit\u001b[49m\u001b[43m(\u001b[49m\u001b[38;5;124;43m'\u001b[39;49m\u001b[38;5;124;43m-\u001b[39;49m\u001b[38;5;124;43m'\u001b[39;49m\u001b[43m)\u001b[49m\u001b[43m[\u001b[49m\u001b[38;5;241;43m1\u001b[39;49m\u001b[43m]\u001b[49m\u001b[43m)\u001b[49m\u001b[43m,\u001b[49m\u001b[43m \u001b[49m\u001b[43mx\u001b[49m\u001b[43m)\u001b[49m\u001b[43m)\u001b[49m\n",
      "Cell \u001b[0;32mIn[265], line 1\u001b[0m, in \u001b[0;36m<lambda>\u001b[0;34m(x)\u001b[0m\n\u001b[0;32m----> 1\u001b[0m \u001b[38;5;28msorted\u001b[39m(contact, key\u001b[38;5;241m=\u001b[39m\u001b[38;5;28;01mlambda\u001b[39;00m x: (\u001b[38;5;28mint\u001b[39m(\u001b[43mx\u001b[49m\u001b[38;5;241;43m.\u001b[39;49m\u001b[43msplit\u001b[49m(\u001b[38;5;124m'\u001b[39m\u001b[38;5;124m-\u001b[39m\u001b[38;5;124m'\u001b[39m)[\u001b[38;5;241m1\u001b[39m]), x))\n",
      "\u001b[0;31mAttributeError\u001b[0m: 'list' object has no attribute 'split'"
     ]
    }
   ],
   "source": [
    "sorted(contact[0], key=lambda x: (int(x.split('-')[1]), x))"
   ]
  },
  {
   "cell_type": "code",
   "execution_count": 237,
   "metadata": {},
   "outputs": [
    {
     "data": {
      "text/plain": [
       "[[1, 1, 1, 1, 1, 1, 1, 1, 1], [1, 1, 1, 1, 1, 2, 1, 1, 1, 1, 1, 1]]"
      ]
     },
     "execution_count": 237,
     "metadata": {},
     "output_type": "execute_result"
    }
   ],
   "source": [
    "aunits"
   ]
  },
  {
   "cell_type": "code",
   "execution_count": 254,
   "metadata": {},
   "outputs": [
    {
     "data": {
      "text/plain": [
       "'a2'"
      ]
     },
     "execution_count": 254,
     "metadata": {},
     "output_type": "execute_result"
    }
   ],
   "source": [
    "'a' + str(2)"
   ]
  },
  {
   "cell_type": "code",
   "execution_count": 204,
   "metadata": {},
   "outputs": [],
   "source": [
    "test = [[]]"
   ]
  },
  {
   "cell_type": "code",
   "execution_count": 206,
   "metadata": {},
   "outputs": [],
   "source": [
    "test[0].append([])"
   ]
  },
  {
   "cell_type": "code",
   "execution_count": 207,
   "metadata": {},
   "outputs": [
    {
     "data": {
      "text/plain": [
       "[[[]]]"
      ]
     },
     "execution_count": 207,
     "metadata": {},
     "output_type": "execute_result"
    }
   ],
   "source": [
    "test"
   ]
  },
  {
   "cell_type": "code",
   "execution_count": 138,
   "metadata": {},
   "outputs": [
    {
     "name": "stdout",
     "output_type": "stream",
     "text": [
      "[[], []]\n"
     ]
    }
   ],
   "source": [
    "test.append([])\n",
    "print(test)"
   ]
  },
  {
   "cell_type": "code",
   "execution_count": 109,
   "metadata": {},
   "outputs": [
    {
     "name": "stdout",
     "output_type": "stream",
     "text": [
      "event labels : ['Touch_times', 'Sel_times', 'SC1_times', 'SC2_times', 'SC3_times', 'Go_times', 'Target_times']\n",
      "\n",
      "event_times shape : (7, 90)\n",
      "\n",
      "event_times_vector shape : (630,)\n"
     ]
    }
   ],
   "source": [
    "# get events times(n_periods, n_trials), labels (n_periods) and event times by session (n_periodes * n_trials)\n",
    "event_labels, event_times, event_times_vector = data.get_event_times()"
   ]
  },
  {
   "cell_type": "code",
   "execution_count": 110,
   "metadata": {},
   "outputs": [
    {
     "name": "stdout",
     "output_type": "stream",
     "text": [
      "n_trials = 90\n",
      "n_events per trial = 7\n"
     ]
    }
   ],
   "source": [
    "# organise events by trials in array (trials_ts) and Dataframe (df_task_ts)\n",
    "trials_ts, trials_ts_aligned, df_task_ts, events_neo = structure.events_by_trial(event_times, event_labels)"
   ]
  },
  {
   "cell_type": "code",
   "execution_count": 111,
   "metadata": {},
   "outputs": [
    {
     "data": {
      "text/plain": [
       "(90, 7)"
      ]
     },
     "execution_count": 111,
     "metadata": {},
     "output_type": "execute_result"
    }
   ],
   "source": [
    "trials_ts.shape"
   ]
  },
  {
   "cell_type": "code",
   "execution_count": 113,
   "metadata": {},
   "outputs": [],
   "source": [
    "if split_probe == False : \n",
    "    merged_units_label = units_label[0] + units_label[1]\n",
    "    label = merged_units_label\n",
    "\n",
    "else : \n",
    "    label = units_label"
   ]
  },
  {
   "cell_type": "code",
   "execution_count": 114,
   "metadata": {},
   "outputs": [
    {
     "data": {
      "text/plain": [
       "array([   0, 1093, 2401, 3723, 5031, 6330, 6863])"
      ]
     },
     "execution_count": 114,
     "metadata": {},
     "output_type": "execute_result"
    }
   ],
   "source": [
    "trials_ts_aligned[0]"
   ]
  },
  {
   "cell_type": "code",
   "execution_count": 120,
   "metadata": {},
   "outputs": [
    {
     "data": {
      "text/plain": [
       "1"
      ]
     },
     "execution_count": 120,
     "metadata": {},
     "output_type": "execute_result"
    }
   ],
   "source": [
    "len(spike_times)"
   ]
  },
  {
   "cell_type": "code",
   "execution_count": 115,
   "metadata": {},
   "outputs": [
    {
     "ename": "TypeError",
     "evalue": "Index(...) must be called with a collection of some kind, 2 was passed",
     "output_type": "error",
     "traceback": [
      "\u001b[0;31m---------------------------------------------------------------------------\u001b[0m",
      "\u001b[0;31mTypeError\u001b[0m                                 Traceback (most recent call last)",
      "Cell \u001b[0;32mIn[115], line 1\u001b[0m\n\u001b[0;32m----> 1\u001b[0m df_spk, spk_ts_trial \u001b[38;5;241m=\u001b[39m \u001b[43mstructure\u001b[49m\u001b[38;5;241;43m.\u001b[39;49m\u001b[43mspike_by_trial\u001b[49m\u001b[43m(\u001b[49m\u001b[43mtrials_ts\u001b[49m\u001b[43m,\u001b[49m\u001b[43m \u001b[49m\u001b[43mspike_times\u001b[49m\u001b[43m,\u001b[49m\u001b[43m \u001b[49m\u001b[43munit_labels\u001b[49m\u001b[38;5;241;43m=\u001b[39;49m\u001b[43mlabel\u001b[49m\u001b[43m,\u001b[49m\u001b[43m \u001b[49m\u001b[43msplit_probe\u001b[49m\u001b[38;5;241;43m=\u001b[39;49m\u001b[43msplit_probe\u001b[49m\u001b[43m)\u001b[49m\n",
      "File \u001b[0;32m~/Bureau/pattern_classification/pipeline_drafts/structure_and_load/structure.py:159\u001b[0m, in \u001b[0;36mspike_by_trial\u001b[0;34m(trials_ts, spike_times, unit_labels, split_probe)\u001b[0m\n\u001b[1;32m    <a href='file:///home/laurie/Bureau/pattern_classification/pipeline_drafts/structure_and_load/structure.py?line=153'>154</a>\u001b[0m                 \u001b[39m# fill the matrice with spike times aligned to 0\u001b[39;00m\n\u001b[1;32m    <a href='file:///home/laurie/Bureau/pattern_classification/pipeline_drafts/structure_and_load/structure.py?line=154'>155</a>\u001b[0m                 list_spk[idx_probe][idx_neuron]\u001b[39m.\u001b[39mappend(spk_ts_trial \u001b[39m-\u001b[39m t_start)\n\u001b[0;32m--> <a href='file:///home/laurie/Bureau/pattern_classification/pipeline_drafts/structure_and_load/structure.py?line=158'>159</a>\u001b[0m     df_spk \u001b[39m=\u001b[39m pd\u001b[39m.\u001b[39;49mDataFrame(list_spk[idx_probe], index\u001b[39m=\u001b[39;49munit_labels[idx_probe])\n\u001b[1;32m    <a href='file:///home/laurie/Bureau/pattern_classification/pipeline_drafts/structure_and_load/structure.py?line=159'>160</a>\u001b[0m     list_df_spk\u001b[39m.\u001b[39mappend(df_spk)\n\u001b[1;32m    <a href='file:///home/laurie/Bureau/pattern_classification/pipeline_drafts/structure_and_load/structure.py?line=161'>162</a>\u001b[0m \u001b[39mreturn\u001b[39;00m list_df_spk, list_spk\n",
      "File \u001b[0;32m~/anaconda3/envs/env_classif/lib/python3.11/site-packages/pandas/core/frame.py:790\u001b[0m, in \u001b[0;36mDataFrame.__init__\u001b[0;34m(self, data, index, columns, dtype, copy)\u001b[0m\n\u001b[1;32m    <a href='file:///home/laurie/anaconda3/envs/env_classif/lib/python3.11/site-packages/pandas/core/frame.py?line=780'>781</a>\u001b[0m         columns \u001b[39m=\u001b[39m ensure_index(columns)\n\u001b[1;32m    <a href='file:///home/laurie/anaconda3/envs/env_classif/lib/python3.11/site-packages/pandas/core/frame.py?line=781'>782</a>\u001b[0m     arrays, columns, index \u001b[39m=\u001b[39m nested_data_to_arrays(\n\u001b[1;32m    <a href='file:///home/laurie/anaconda3/envs/env_classif/lib/python3.11/site-packages/pandas/core/frame.py?line=782'>783</a>\u001b[0m         \u001b[39m# error: Argument 3 to \"nested_data_to_arrays\" has incompatible\u001b[39;00m\n\u001b[1;32m    <a href='file:///home/laurie/anaconda3/envs/env_classif/lib/python3.11/site-packages/pandas/core/frame.py?line=783'>784</a>\u001b[0m         \u001b[39m# type \"Optional[Collection[Any]]\"; expected \"Optional[Index]\"\u001b[39;00m\n\u001b[0;32m   (...)\u001b[0m\n\u001b[1;32m    <a href='file:///home/laurie/anaconda3/envs/env_classif/lib/python3.11/site-packages/pandas/core/frame.py?line=787'>788</a>\u001b[0m         dtype,\n\u001b[1;32m    <a href='file:///home/laurie/anaconda3/envs/env_classif/lib/python3.11/site-packages/pandas/core/frame.py?line=788'>789</a>\u001b[0m     )\n\u001b[0;32m--> <a href='file:///home/laurie/anaconda3/envs/env_classif/lib/python3.11/site-packages/pandas/core/frame.py?line=789'>790</a>\u001b[0m     mgr \u001b[39m=\u001b[39m arrays_to_mgr(\n\u001b[1;32m    <a href='file:///home/laurie/anaconda3/envs/env_classif/lib/python3.11/site-packages/pandas/core/frame.py?line=790'>791</a>\u001b[0m         arrays,\n\u001b[1;32m    <a href='file:///home/laurie/anaconda3/envs/env_classif/lib/python3.11/site-packages/pandas/core/frame.py?line=791'>792</a>\u001b[0m         columns,\n\u001b[1;32m    <a href='file:///home/laurie/anaconda3/envs/env_classif/lib/python3.11/site-packages/pandas/core/frame.py?line=792'>793</a>\u001b[0m         index,\n\u001b[1;32m    <a href='file:///home/laurie/anaconda3/envs/env_classif/lib/python3.11/site-packages/pandas/core/frame.py?line=793'>794</a>\u001b[0m         dtype\u001b[39m=\u001b[39;49mdtype,\n\u001b[1;32m    <a href='file:///home/laurie/anaconda3/envs/env_classif/lib/python3.11/site-packages/pandas/core/frame.py?line=794'>795</a>\u001b[0m         typ\u001b[39m=\u001b[39;49mmanager,\n\u001b[1;32m    <a href='file:///home/laurie/anaconda3/envs/env_classif/lib/python3.11/site-packages/pandas/core/frame.py?line=795'>796</a>\u001b[0m     )\n\u001b[1;32m    <a href='file:///home/laurie/anaconda3/envs/env_classif/lib/python3.11/site-packages/pandas/core/frame.py?line=796'>797</a>\u001b[0m \u001b[39melse\u001b[39;00m:\n\u001b[1;32m    <a href='file:///home/laurie/anaconda3/envs/env_classif/lib/python3.11/site-packages/pandas/core/frame.py?line=797'>798</a>\u001b[0m     mgr \u001b[39m=\u001b[39m ndarray_to_mgr(\n\u001b[1;32m    <a href='file:///home/laurie/anaconda3/envs/env_classif/lib/python3.11/site-packages/pandas/core/frame.py?line=798'>799</a>\u001b[0m         data,\n\u001b[1;32m    <a href='file:///home/laurie/anaconda3/envs/env_classif/lib/python3.11/site-packages/pandas/core/frame.py?line=799'>800</a>\u001b[0m         index,\n\u001b[0;32m   (...)\u001b[0m\n\u001b[1;32m    <a href='file:///home/laurie/anaconda3/envs/env_classif/lib/python3.11/site-packages/pandas/core/frame.py?line=803'>804</a>\u001b[0m         typ\u001b[39m=\u001b[39mmanager,\n\u001b[1;32m    <a href='file:///home/laurie/anaconda3/envs/env_classif/lib/python3.11/site-packages/pandas/core/frame.py?line=804'>805</a>\u001b[0m     )\n",
      "File \u001b[0;32m~/anaconda3/envs/env_classif/lib/python3.11/site-packages/pandas/core/internals/construction.py:117\u001b[0m, in \u001b[0;36marrays_to_mgr\u001b[0;34m(arrays, columns, index, dtype, verify_integrity, typ, consolidate)\u001b[0m\n\u001b[1;32m    <a href='file:///home/laurie/anaconda3/envs/env_classif/lib/python3.11/site-packages/pandas/core/internals/construction.py?line=114'>115</a>\u001b[0m     index \u001b[39m=\u001b[39m _extract_index(arrays)\n\u001b[1;32m    <a href='file:///home/laurie/anaconda3/envs/env_classif/lib/python3.11/site-packages/pandas/core/internals/construction.py?line=115'>116</a>\u001b[0m \u001b[39melse\u001b[39;00m:\n\u001b[0;32m--> <a href='file:///home/laurie/anaconda3/envs/env_classif/lib/python3.11/site-packages/pandas/core/internals/construction.py?line=116'>117</a>\u001b[0m     index \u001b[39m=\u001b[39m ensure_index(index)\n\u001b[1;32m    <a href='file:///home/laurie/anaconda3/envs/env_classif/lib/python3.11/site-packages/pandas/core/internals/construction.py?line=118'>119</a>\u001b[0m \u001b[39m# don't force copy because getting jammed in an ndarray anyway\u001b[39;00m\n\u001b[1;32m    <a href='file:///home/laurie/anaconda3/envs/env_classif/lib/python3.11/site-packages/pandas/core/internals/construction.py?line=119'>120</a>\u001b[0m arrays, refs \u001b[39m=\u001b[39m _homogenize(arrays, index, dtype)\n",
      "File \u001b[0;32m~/anaconda3/envs/env_classif/lib/python3.11/site-packages/pandas/core/indexes/base.py:7128\u001b[0m, in \u001b[0;36mensure_index\u001b[0;34m(index_like, copy)\u001b[0m\n\u001b[1;32m   <a href='file:///home/laurie/anaconda3/envs/env_classif/lib/python3.11/site-packages/pandas/core/indexes/base.py?line=7125'>7126</a>\u001b[0m         \u001b[39mreturn\u001b[39;00m Index(index_like, copy\u001b[39m=\u001b[39mcopy, tupleize_cols\u001b[39m=\u001b[39m\u001b[39mFalse\u001b[39;00m)\n\u001b[1;32m   <a href='file:///home/laurie/anaconda3/envs/env_classif/lib/python3.11/site-packages/pandas/core/indexes/base.py?line=7126'>7127</a>\u001b[0m \u001b[39melse\u001b[39;00m:\n\u001b[0;32m-> <a href='file:///home/laurie/anaconda3/envs/env_classif/lib/python3.11/site-packages/pandas/core/indexes/base.py?line=7127'>7128</a>\u001b[0m     \u001b[39mreturn\u001b[39;00m Index(index_like, copy\u001b[39m=\u001b[39;49mcopy)\n",
      "File \u001b[0;32m~/anaconda3/envs/env_classif/lib/python3.11/site-packages/pandas/core/indexes/base.py:516\u001b[0m, in \u001b[0;36mIndex.__new__\u001b[0;34m(cls, data, dtype, copy, name, tupleize_cols)\u001b[0m\n\u001b[1;32m    <a href='file:///home/laurie/anaconda3/envs/env_classif/lib/python3.11/site-packages/pandas/core/indexes/base.py?line=512'>513</a>\u001b[0m         data \u001b[39m=\u001b[39m com\u001b[39m.\u001b[39masarray_tuplesafe(data, dtype\u001b[39m=\u001b[39m_dtype_obj)\n\u001b[1;32m    <a href='file:///home/laurie/anaconda3/envs/env_classif/lib/python3.11/site-packages/pandas/core/indexes/base.py?line=514'>515</a>\u001b[0m \u001b[39melif\u001b[39;00m is_scalar(data):\n\u001b[0;32m--> <a href='file:///home/laurie/anaconda3/envs/env_classif/lib/python3.11/site-packages/pandas/core/indexes/base.py?line=515'>516</a>\u001b[0m     \u001b[39mraise\u001b[39;00m \u001b[39mcls\u001b[39;49m\u001b[39m.\u001b[39;49m_raise_scalar_data_error(data)\n\u001b[1;32m    <a href='file:///home/laurie/anaconda3/envs/env_classif/lib/python3.11/site-packages/pandas/core/indexes/base.py?line=516'>517</a>\u001b[0m \u001b[39melif\u001b[39;00m \u001b[39mhasattr\u001b[39m(data, \u001b[39m\"\u001b[39m\u001b[39m__array__\u001b[39m\u001b[39m\"\u001b[39m):\n\u001b[1;32m    <a href='file:///home/laurie/anaconda3/envs/env_classif/lib/python3.11/site-packages/pandas/core/indexes/base.py?line=517'>518</a>\u001b[0m     \u001b[39mreturn\u001b[39;00m Index(np\u001b[39m.\u001b[39masarray(data), dtype\u001b[39m=\u001b[39mdtype, copy\u001b[39m=\u001b[39mcopy, name\u001b[39m=\u001b[39mname)\n",
      "File \u001b[0;32m~/anaconda3/envs/env_classif/lib/python3.11/site-packages/pandas/core/indexes/base.py:5066\u001b[0m, in \u001b[0;36mIndex._raise_scalar_data_error\u001b[0;34m(cls, data)\u001b[0m\n\u001b[1;32m   <a href='file:///home/laurie/anaconda3/envs/env_classif/lib/python3.11/site-packages/pandas/core/indexes/base.py?line=5060'>5061</a>\u001b[0m \u001b[39m@final\u001b[39m\n\u001b[1;32m   <a href='file:///home/laurie/anaconda3/envs/env_classif/lib/python3.11/site-packages/pandas/core/indexes/base.py?line=5061'>5062</a>\u001b[0m \u001b[39m@classmethod\u001b[39m\n\u001b[1;32m   <a href='file:///home/laurie/anaconda3/envs/env_classif/lib/python3.11/site-packages/pandas/core/indexes/base.py?line=5062'>5063</a>\u001b[0m \u001b[39mdef\u001b[39;00m \u001b[39m_raise_scalar_data_error\u001b[39m(\u001b[39mcls\u001b[39m, data):\n\u001b[1;32m   <a href='file:///home/laurie/anaconda3/envs/env_classif/lib/python3.11/site-packages/pandas/core/indexes/base.py?line=5063'>5064</a>\u001b[0m     \u001b[39m# We return the TypeError so that we can raise it from the constructor\u001b[39;00m\n\u001b[1;32m   <a href='file:///home/laurie/anaconda3/envs/env_classif/lib/python3.11/site-packages/pandas/core/indexes/base.py?line=5064'>5065</a>\u001b[0m     \u001b[39m#  in order to keep mypy happy\u001b[39;00m\n\u001b[0;32m-> <a href='file:///home/laurie/anaconda3/envs/env_classif/lib/python3.11/site-packages/pandas/core/indexes/base.py?line=5065'>5066</a>\u001b[0m     \u001b[39mraise\u001b[39;00m \u001b[39mTypeError\u001b[39;00m(\n\u001b[1;32m   <a href='file:///home/laurie/anaconda3/envs/env_classif/lib/python3.11/site-packages/pandas/core/indexes/base.py?line=5066'>5067</a>\u001b[0m         \u001b[39mf\u001b[39m\u001b[39m\"\u001b[39m\u001b[39m{\u001b[39;00m\u001b[39mcls\u001b[39m\u001b[39m.\u001b[39m\u001b[39m__name__\u001b[39m\u001b[39m}\u001b[39;00m\u001b[39m(...) must be called with a collection of some \u001b[39m\u001b[39m\"\u001b[39m\n\u001b[1;32m   <a href='file:///home/laurie/anaconda3/envs/env_classif/lib/python3.11/site-packages/pandas/core/indexes/base.py?line=5067'>5068</a>\u001b[0m         \u001b[39mf\u001b[39m\u001b[39m\"\u001b[39m\u001b[39mkind, \u001b[39m\u001b[39m{\u001b[39;00m\u001b[39mrepr\u001b[39m(data)\u001b[39m}\u001b[39;00m\u001b[39m was passed\u001b[39m\u001b[39m\"\u001b[39m\n\u001b[1;32m   <a href='file:///home/laurie/anaconda3/envs/env_classif/lib/python3.11/site-packages/pandas/core/indexes/base.py?line=5068'>5069</a>\u001b[0m     )\n",
      "\u001b[0;31mTypeError\u001b[0m: Index(...) must be called with a collection of some kind, 2 was passed"
     ]
    }
   ],
   "source": [
    "df_spk, spk_ts_trial = structure.spike_by_trial(trials_ts, spike_times, unit_labels=label, split_probe=split_probe)"
   ]
  },
  {
   "cell_type": "code",
   "execution_count": 122,
   "metadata": {},
   "outputs": [
    {
     "data": {
      "text/plain": [
       "[2, 4, 6, 9, 10, 12, 14, 15, 16]"
      ]
     },
     "execution_count": 122,
     "metadata": {},
     "output_type": "execute_result"
    }
   ],
   "source": [
    "units_label[0]"
   ]
  },
  {
   "cell_type": "code",
   "execution_count": 45,
   "metadata": {},
   "outputs": [],
   "source": [
    "test = df_spk[0]"
   ]
  },
  {
   "cell_type": "code",
   "execution_count": 12,
   "metadata": {},
   "outputs": [
    {
     "ename": "NameError",
     "evalue": "name 'event' is not defined",
     "output_type": "error",
     "traceback": [
      "\u001b[0;31m---------------------------------------------------------------------------\u001b[0m",
      "\u001b[0;31mNameError\u001b[0m                                 Traceback (most recent call last)",
      "Cell \u001b[0;32mIn[12], line 2\u001b[0m\n\u001b[1;32m      1\u001b[0m periods_times \u001b[38;5;241m=\u001b[39m event_times\n\u001b[0;32m----> 2\u001b[0m periods_names \u001b[38;5;241m=\u001b[39m \u001b[43mevent\u001b[49m\n",
      "\u001b[0;31mNameError\u001b[0m: name 'event' is not defined"
     ]
    }
   ],
   "source": [
    "periods_times = event_times\n",
    "periods_names = event"
   ]
  },
  {
   "cell_type": "code",
   "execution_count": null,
   "metadata": {},
   "outputs": [],
   "source": [
    "evt = Event(periods_times*s,labels=np.array(periods_names,dtype='U')"
   ]
  },
  {
   "cell_type": "code",
   "execution_count": null,
   "metadata": {},
   "outputs": [],
   "source": [
    "spike_ts = spike_times"
   ]
  },
  {
   "cell_type": "code",
   "execution_count": null,
   "metadata": {},
   "outputs": [],
   "source": [
    "t = pd.DataFrame(spike_ts[0][0])"
   ]
  },
  {
   "cell_type": "code",
   "execution_count": null,
   "metadata": {},
   "outputs": [],
   "source": [
    "t.max().values"
   ]
  },
  {
   "cell_type": "code",
   "execution_count": null,
   "metadata": {},
   "outputs": [],
   "source": [
    "time = np.arange(0, 1406670, 500)"
   ]
  },
  {
   "cell_type": "code",
   "execution_count": null,
   "metadata": {},
   "outputs": [],
   "source": [
    "t"
   ]
  },
  {
   "cell_type": "code",
   "execution_count": null,
   "metadata": {},
   "outputs": [],
   "source": [
    "plt.plot(time, t)"
   ]
  },
  {
   "cell_type": "code",
   "execution_count": null,
   "metadata": {},
   "outputs": [],
   "source": [
    "spike_ts[0][0][:,0]"
   ]
  },
  {
   "cell_type": "code",
   "execution_count": null,
   "metadata": {},
   "outputs": [],
   "source": [
    "len_recording = []\n",
    "for prob_idx in range(len(spike_ts)):\n",
    "    for unit_idx in range(len(spike_ts[prob_idx])):\n",
    "\n",
    "        min = spike_ts[prob_idx][unit_idx][0][0]\n",
    "        max = spike_ts[prob_idx][unit_idx][-1][0]\n",
    "\n",
    "        len_recording.append(max - min)\n",
    "        spike_ts_ = spike_ts[prob_idx][unit_idx][:,0]\n",
    "\n",
    "        spiketrain = SpikeTrain(spike_ts_*s, t_stop=spike_ts_[-1])\n",
    "        time = np.arange(min, max)\n",
    "\n",
    "print(spiketrain)\n",
    "type(spiketrain)\n",
    "print(spiketrain.shape)"
   ]
  },
  {
   "cell_type": "code",
   "execution_count": null,
   "metadata": {},
   "outputs": [],
   "source": [
    "spikes = np.squeeze(spiketrain)\n",
    "\n",
    "for i in range(2):\n",
    "\n",
    "    plt.plot(spikes, np.ones_like(spikes)*i, '|', markersize=100, color='black')\n",
    "\n",
    "plt.yticks(np.arange(0,1., 1))\n",
    "plt.xlim([0,1400])\n",
    "plt.title('Output raster')\n",
    "plt.xlabel('Time (s)')"
   ]
  },
  {
   "cell_type": "code",
   "execution_count": null,
   "metadata": {},
   "outputs": [],
   "source": [
    "spiketrain"
   ]
  },
  {
   "cell_type": "code",
   "execution_count": null,
   "metadata": {},
   "outputs": [],
   "source": [
    "spikes"
   ]
  },
  {
   "cell_type": "code",
   "execution_count": null,
   "metadata": {},
   "outputs": [],
   "source": [
    "import matplotlib.pyplot as plt\n",
    "import numpy as np\n",
    "\n",
    "plt.figure(figsize=(10,2))\n",
    "\n",
    "spikes = np.squeeze(spiketrain)\n",
    "\n",
    "\n",
    "for i in range(2):\n",
    "    n_unit = 10\n",
    "    plt.plot(spikes, '.', markersize=0.2, color='black')\n",
    "\n",
    "plt.yticks([0, 1])  # Specify the positions of y-axis labels\n",
    "plt.xlim([0, 140])\n",
    "plt.title('Output raster')\n",
    "plt.xlabel('Time (s)')\n",
    "plt.show()\n"
   ]
  },
  {
   "cell_type": "code",
   "execution_count": null,
   "metadata": {},
   "outputs": [],
   "source": []
  }
 ],
 "metadata": {
  "interpreter": {
   "hash": "1677e2dcc864b936159311a59e521507be7f68e5fb28f83b5a0cd9cf7d30abf7"
  },
  "kernelspec": {
   "display_name": "Python 3 (ipykernel)",
   "language": "python",
   "name": "python3"
  },
  "language_info": {
   "codemirror_mode": {
    "name": "ipython",
    "version": 3
   },
   "file_extension": ".py",
   "mimetype": "text/x-python",
   "name": "python",
   "nbconvert_exporter": "python",
   "pygments_lexer": "ipython3",
   "version": "3.10.12"
  }
 },
 "nbformat": 4,
 "nbformat_minor": 4
}
