{
 "cells": [
  {
   "cell_type": "code",
   "execution_count": 23,
   "metadata": {},
   "outputs": [
    {
     "name": "stdout",
     "output_type": "stream",
     "text": [
      "The autoreload extension is already loaded. To reload it, use:\n",
      "  %reload_ext autoreload\n"
     ]
    }
   ],
   "source": [
    "#from structure_and_load import load\n",
    "import matplotlib.pyplot as plt \n",
    "import numpy as np\n",
    "import pandas as pd\n",
    "import scipy.ndimage as spn \n",
    "from open_data  import matlab_file\n",
    "from structure_data import  manage\n",
    "from compute.classif import classify\n",
    "\n",
    "import re\n",
    "import neo \n",
    "from neo.core import Event\n",
    "from quantities import s \n",
    "from quantities import millisecond as ms\n",
    "\n",
    "import os\n",
    "import sys\n",
    "\n",
    "%load_ext autoreload\n",
    "%autoreload 2"
   ]
  },
  {
   "cell_type": "markdown",
   "metadata": {},
   "source": [
    "# Load and format data"
   ]
  },
  {
   "cell_type": "markdown",
   "metadata": {},
   "source": [
    "### Load data"
   ]
  },
  {
   "cell_type": "code",
   "execution_count": 24,
   "metadata": {},
   "outputs": [
    {
     "name": "stdout",
     "output_type": "stream",
     "text": [
      "\n",
      "43 files loaded\n"
     ]
    }
   ],
   "source": [
    "#Load\n",
    "session, data_path, info_path = matlab_file.from_lab(lab_desktop=True, session='t150204001')\n",
    "data, load_info = matlab_file.open(data_path)\n",
    "session_info_raw = matlab_file.clean(info_path)"
   ]
  },
  {
   "cell_type": "code",
   "execution_count": 25,
   "metadata": {},
   "outputs": [
    {
     "name": "stdout",
     "output_type": "stream",
     "text": [
      "Complete unit found ! \n",
      "loading index = 2\n",
      "matfile : t150204001_probe1_contact3_unit1.mat\n"
     ]
    },
    {
     "data": {
      "text/plain": [
       "['P1-23-2', 'P1-5-1', 'P1-3-1', 'P1-1-1', 'P2-6-1']"
      ]
     },
     "execution_count": 25,
     "metadata": {},
     "output_type": "execute_result"
    }
   ],
   "source": [
    "# get sessions and units information (unit, prob, elitrials)\n",
    "info_units,  info_session = manage.info(load_info, session_info_raw, session)\n",
    "unit_label, unit_labelProbe1, unit_labelProbe2, count_unitProbe = manage.units_label(info_units)\n",
    "# manage elitrials format\n",
    "info_session['elitrials'] = info_session['elitrials'].apply(manage.elitrials)\n",
    "# get unit's index without eli trials \n",
    "completeUnit = manage.CompleteTasktime(info_session, load_info, session)\n",
    "unit_label[:5]"
   ]
  },
  {
   "cell_type": "code",
   "execution_count": 26,
   "metadata": {},
   "outputs": [],
   "source": [
    "spike_times, task_times, target_info = matlab_file.extract_data(\\\n",
    "        load_info, data, target_keys_OFF=['SC1_dir', 'SC2_dir', 'SC3_dir', 'Trial_type'],\\\n",
    "        target_keys_ON=['SC1_dir', 'SC2_dir', 'SC3_dir', 'Trial_type'], \\\n",
    "        event_keys_OFF=['Sel_OFF', 'SC1_OFF', 'SC2_OFF', 'SC3_OFF'])"
   ]
  },
  {
   "cell_type": "markdown",
   "metadata": {},
   "source": [
    "### Format spike times "
   ]
  },
  {
   "cell_type": "code",
   "execution_count": 27,
   "metadata": {},
   "outputs": [],
   "source": [
    "event_labels = matlab_file.get_event_labels(task_times)\n",
    "event_times = matlab_file.get_event_times(task_times, event_labels)\n",
    "# reshape times by trials / periods for each neuron + Neo format\n",
    "trials_ts, df_task_ts_by_neuron, events = manage.events_by_trial(event_times, event_labels)"
   ]
  },
  {
   "cell_type": "code",
   "execution_count": 28,
   "metadata": {},
   "outputs": [
    {
     "name": "stdout",
     "output_type": "stream",
     "text": [
      "times as list : [3047992 3049069 3050391 3051713 3053021 3054320 3054799]\n",
      "times as neo events : [3047992. 3049069. 3050391. 3051713. 3053021. 3054320. 3054799.] ms\n",
      "spike train sample : [    237    2137    3267 ... 3657198 3657250 3658579]\n",
      "events : ['Touch_time', 'Sel_ON', 'SC1_ON', 'SC2_ON', 'SC3_ON', 'Go_time', 'Target_time']\n",
      "targets : dict_keys(['Touch_time', 'Sel_ON', 'SC1_ON', 'SC2_ON', 'SC3_ON', 'Go_time', 'Target_time'])\n"
     ]
    }
   ],
   "source": [
    "unit_ = 32\n",
    "trial_ = 12\n",
    "print(f'times as list : {trials_ts[unit_][1][trial_]}')\n",
    "print(f'times as neo events : {events[unit_][1][trial_].times}')\n",
    "print(f'spike train sample : {spike_times[0][1]}\\nevents : {event_labels}\\ntargets : {task_times[0][1].keys()}')\n"
   ]
  },
  {
   "cell_type": "code",
   "execution_count": 29,
   "metadata": {},
   "outputs": [
    {
     "data": {
      "text/html": [
       "<div>\n",
       "<style scoped>\n",
       "    .dataframe tbody tr th:only-of-type {\n",
       "        vertical-align: middle;\n",
       "    }\n",
       "\n",
       "    .dataframe tbody tr th {\n",
       "        vertical-align: top;\n",
       "    }\n",
       "\n",
       "    .dataframe thead th {\n",
       "        text-align: right;\n",
       "    }\n",
       "</style>\n",
       "<table border=\"1\" class=\"dataframe\">\n",
       "  <thead>\n",
       "    <tr style=\"text-align: right;\">\n",
       "      <th></th>\n",
       "      <th>Touch_time</th>\n",
       "      <th>Sel_ON</th>\n",
       "      <th>SC1_ON</th>\n",
       "      <th>SC2_ON</th>\n",
       "      <th>SC3_ON</th>\n",
       "      <th>Go_time</th>\n",
       "      <th>Target_time</th>\n",
       "    </tr>\n",
       "  </thead>\n",
       "  <tbody>\n",
       "    <tr>\n",
       "      <th>171</th>\n",
       "      <td>3427744</td>\n",
       "      <td>3428813</td>\n",
       "      <td>3430132</td>\n",
       "      <td>3431440</td>\n",
       "      <td>3432749</td>\n",
       "      <td>3434034</td>\n",
       "      <td>3434577</td>\n",
       "    </tr>\n",
       "    <tr>\n",
       "      <th>172</th>\n",
       "      <td>3488819</td>\n",
       "      <td>3489885</td>\n",
       "      <td>3491206</td>\n",
       "      <td>3492515</td>\n",
       "      <td>3493823</td>\n",
       "      <td>3495121</td>\n",
       "      <td>3495791</td>\n",
       "    </tr>\n",
       "    <tr>\n",
       "      <th>173</th>\n",
       "      <td>3498993</td>\n",
       "      <td>3500111</td>\n",
       "      <td>3501419</td>\n",
       "      <td>3502727</td>\n",
       "      <td>3504049</td>\n",
       "      <td>3505334</td>\n",
       "      <td>3506030</td>\n",
       "    </tr>\n",
       "    <tr>\n",
       "      <th>174</th>\n",
       "      <td>3518800</td>\n",
       "      <td>3519868</td>\n",
       "      <td>3521190</td>\n",
       "      <td>3522498</td>\n",
       "      <td>3523823</td>\n",
       "      <td>3525133</td>\n",
       "      <td>3525652</td>\n",
       "    </tr>\n",
       "    <tr>\n",
       "      <th>175</th>\n",
       "      <td>3534627</td>\n",
       "      <td>3535700</td>\n",
       "      <td>3537009</td>\n",
       "      <td>3538317</td>\n",
       "      <td>3539639</td>\n",
       "      <td>3540937</td>\n",
       "      <td>3541739</td>\n",
       "    </tr>\n",
       "  </tbody>\n",
       "</table>\n",
       "</div>"
      ],
      "text/plain": [
       "     Touch_time   Sel_ON   SC1_ON   SC2_ON   SC3_ON  Go_time  Target_time\n",
       "171     3427744  3428813  3430132  3431440  3432749  3434034      3434577\n",
       "172     3488819  3489885  3491206  3492515  3493823  3495121      3495791\n",
       "173     3498993  3500111  3501419  3502727  3504049  3505334      3506030\n",
       "174     3518800  3519868  3521190  3522498  3523823  3525133      3525652\n",
       "175     3534627  3535700  3537009  3538317  3539639  3540937      3541739"
      ]
     },
     "execution_count": 29,
     "metadata": {},
     "output_type": "execute_result"
    }
   ],
   "source": [
    "# get dataframe with each events times per trials for a complete session\n",
    "tot_trials_in_task = trials_ts[completeUnit][1].shape[0]\n",
    "df_task_ts = pd.DataFrame(trials_ts[completeUnit][1], columns=event_labels, index=np.arange(0, tot_trials_in_task))\n",
    "df_task_ts.tail()"
   ]
  },
  {
   "cell_type": "markdown",
   "metadata": {},
   "source": [
    "### Format target"
   ]
  },
  {
   "cell_type": "code",
   "execution_count": 30,
   "metadata": {},
   "outputs": [
    {
     "data": {
      "text/html": [
       "<div>\n",
       "<style scoped>\n",
       "    .dataframe tbody tr th:only-of-type {\n",
       "        vertical-align: middle;\n",
       "    }\n",
       "\n",
       "    .dataframe tbody tr th {\n",
       "        vertical-align: top;\n",
       "    }\n",
       "\n",
       "    .dataframe thead th {\n",
       "        text-align: right;\n",
       "    }\n",
       "</style>\n",
       "<table border=\"1\" class=\"dataframe\">\n",
       "  <thead>\n",
       "    <tr style=\"text-align: right;\">\n",
       "      <th></th>\n",
       "      <th>trial_type</th>\n",
       "      <th>position</th>\n",
       "      <th>type_and_pos</th>\n",
       "    </tr>\n",
       "  </thead>\n",
       "  <tbody>\n",
       "    <tr>\n",
       "      <th>0</th>\n",
       "      <td>1</td>\n",
       "      <td>2</td>\n",
       "      <td>0</td>\n",
       "    </tr>\n",
       "    <tr>\n",
       "      <th>1</th>\n",
       "      <td>1</td>\n",
       "      <td>2</td>\n",
       "      <td>0</td>\n",
       "    </tr>\n",
       "    <tr>\n",
       "      <th>2</th>\n",
       "      <td>1</td>\n",
       "      <td>3</td>\n",
       "      <td>1</td>\n",
       "    </tr>\n",
       "    <tr>\n",
       "      <th>3</th>\n",
       "      <td>1</td>\n",
       "      <td>3</td>\n",
       "      <td>1</td>\n",
       "    </tr>\n",
       "    <tr>\n",
       "      <th>4</th>\n",
       "      <td>1</td>\n",
       "      <td>4</td>\n",
       "      <td>2</td>\n",
       "    </tr>\n",
       "    <tr>\n",
       "      <th>...</th>\n",
       "      <td>...</td>\n",
       "      <td>...</td>\n",
       "      <td>...</td>\n",
       "    </tr>\n",
       "    <tr>\n",
       "      <th>171</th>\n",
       "      <td>1</td>\n",
       "      <td>3</td>\n",
       "      <td>1</td>\n",
       "    </tr>\n",
       "    <tr>\n",
       "      <th>172</th>\n",
       "      <td>2</td>\n",
       "      <td>3</td>\n",
       "      <td>4</td>\n",
       "    </tr>\n",
       "    <tr>\n",
       "      <th>173</th>\n",
       "      <td>2</td>\n",
       "      <td>4</td>\n",
       "      <td>5</td>\n",
       "    </tr>\n",
       "    <tr>\n",
       "      <th>174</th>\n",
       "      <td>2</td>\n",
       "      <td>4</td>\n",
       "      <td>5</td>\n",
       "    </tr>\n",
       "    <tr>\n",
       "      <th>175</th>\n",
       "      <td>2</td>\n",
       "      <td>4</td>\n",
       "      <td>5</td>\n",
       "    </tr>\n",
       "  </tbody>\n",
       "</table>\n",
       "<p>176 rows × 3 columns</p>\n",
       "</div>"
      ],
      "text/plain": [
       "     trial_type  position  type_and_pos\n",
       "0             1         2             0\n",
       "1             1         2             0\n",
       "2             1         3             1\n",
       "3             1         3             1\n",
       "4             1         4             2\n",
       "..          ...       ...           ...\n",
       "171           1         3             1\n",
       "172           2         3             4\n",
       "173           2         4             5\n",
       "174           2         4             5\n",
       "175           2         4             5\n",
       "\n",
       "[176 rows x 3 columns]"
      ]
     },
     "execution_count": 30,
     "metadata": {},
     "output_type": "execute_result"
    }
   ],
   "source": [
    "target = manage.target_by_trials(target_info, completeUnit)\n",
    "target"
   ]
  },
  {
   "cell_type": "markdown",
   "metadata": {},
   "source": [
    "### Format trials"
   ]
  },
  {
   "cell_type": "code",
   "execution_count": 31,
   "metadata": {},
   "outputs": [],
   "source": [
    "# align times by trials for each neurons\n",
    "df_task_ts_by_neuron = manage.time_by_trials(df_task_ts_by_neuron, df_task_ts, event_labels)\n",
    "df_task_ts_by_neuron[0][1]\n",
    "\n",
    "# split the spike time vector by trial\n",
    "spk_trials, spike_train_trial = manage.spike_ts_by_trial(trials_ts, spike_times)\n",
    "spikes_times_aligned = manage.spike_ts_aligned(df_task_ts, df_task_ts_by_neuron, spike_times, unit_label, spike_train_trial)"
   ]
  },
  {
   "cell_type": "markdown",
   "metadata": {},
   "source": [
    "# Raster plot"
   ]
  },
  {
   "cell_type": "code",
   "execution_count": 39,
   "metadata": {},
   "outputs": [
    {
     "data": {
      "image/png": "[encoded data removed]",
      "text/plain": [
       "<Figure size 2000x500 with 1 Axes>"
      ]
     },
     "metadata": {},
     "output_type": "display_data"
    }
   ],
   "source": [
    "n_neurons = spikes_times_aligned.shape[0]\n",
    "\n",
    "t = 0\n",
    "event_vector = df_task_ts.loc[t]\n",
    "\n",
    "plt.figure(figsize=(20, 5))  # Ajustez la taille de la figure selon vos besoins\n",
    "\n",
    "# Parcourir tous les neurones et tracer leur spike train\n",
    "for n in range(n_neurons): \n",
    "    spiketrain = spikes_times_aligned[n][t]['spike_train']\n",
    "    if len(spiketrain) > 0 and spiketrain[0] != 0:      \n",
    "        plt.eventplot(spiketrain.magnitude, linelengths=0.75, lineoffsets=n, color='black')\n",
    "for i in range(n_neurons - 1):\n",
    "    plt.hlines(i+0.5, xmin=event_vector.min(), xmax=event_vector.max(), colors='gray', linestyles='solid', linewidth=0.5)\n",
    "\n",
    "# Définir les étiquettes de l'axe x et l'axe y\n",
    "plt.xticks(event_vector.values, event_labels, fontsize=7)\n",
    "plt.yticks(range(n_neurons), [f\"{i}\" for i in range(n_neurons)], fontsize=8)\n",
    "plt.title(f\"Spike Trains for Trial {t}\", fontsize=16)\n",
    "\n",
    "# Ajuster les limites des axes\n",
    "plt.xlim(event_vector.min(), event_vector.max())\n",
    "plt.ylim(-0.5, 42.5)\n",
    "\n",
    "plt.show()\n"
   ]
  },
  {
   "cell_type": "markdown",
   "metadata": {},
   "source": [
    "# ISI Draft"
   ]
  },
  {
   "cell_type": "code",
   "execution_count": null,
   "metadata": {},
   "outputs": [],
   "source": [
    "from synchrony import ISI"
   ]
  },
  {
   "cell_type": "code",
   "execution_count": null,
   "metadata": {},
   "outputs": [],
   "source": [
    "X_isi_ = np.zeros((n_trials), dtype=object)\n",
    "row, col = np.triu_indices(n_neurons, k=1)\n",
    "n_pairs = len(row)\n",
    "ISI_distance = []\n",
    "X_isi = []\n",
    "\n",
    "for t in range(n_trials) : \n",
    "    n_times = spikes_times_aligned[0][t]['t_stop_aligned']\n",
    "    X_isi_one_trial = np.zeros((n_neurons, n_times))\n",
    "    for n in range(n_neurons) :\n",
    "        x_isi = ISI.compute(spikes_times_aligned[n][t]) \n",
    "        X_isi_one_trial[n, :] = x_isi\n",
    "\n",
    "    ISI_distance_one_trials = np.zeros((n_pairs, n_times))\n",
    "    for n_p, (r,c) in enumerate(zip(row, col)):\n",
    "        ISI_distance_one_trials[n_p,:] = ISI.distance(X_isi_one_trial[r, :], X_isi_one_trial[c, :])\n",
    "    \n",
    "    X_isi.append(X_isi_one_trial)\n",
    "    ISI_distance.append(ISI_distance_one_trials)"
   ]
  },
  {
   "cell_type": "code",
   "execution_count": null,
   "metadata": {},
   "outputs": [],
   "source": [
    "t = 120\n",
    "neurons_ = [38,16]\n",
    "event_vector = df_task_ts.loc[t]\n",
    "\n",
    "fig, axs = plt.subplots(3,1, figsize=(20, 8))\n",
    "\n",
    "# Parcourir tous les neurones et tracer leur spike train\n",
    "for idx, n in enumerate(neurons_) : \n",
    "    spiketrain = spikes_times_aligned[n][t]['spike_train']\n",
    "    if len(spiketrain) > 0 and spiketrain[0] != 0:      \n",
    "        axs[0].eventplot(spiketrain.magnitude, linelengths=0.75, lineoffsets=idx, color='black')\n",
    "for i in range(len(neurons_) - 1):\n",
    "    axs[0].hlines(i+0.5, xmin=event_vector.min(), xmax=event_vector.max(), colors='gray', linestyles='solid', linewidth=0.5)\n",
    "\n",
    "# Définir les étiquettes de l'axe x et l'axe y\n",
    "axs[0].set_xticks(event_vector.values)\n",
    "axs[0].set_xticklabels(event_labels, fontsize=7)\n",
    "axs[0].set_yticks(range(n_neurons))\n",
    "axs[0].set_yticklabels([f\"spike train {i}\" for i in range(n_neurons)], fontsize=10)\n",
    "axs[0].set_title(f\"Trial {t} - neurons : {neurons_}\", fontsize=14)\n",
    "\n",
    "# Ajuster les limites des axes\n",
    "axs[0].set_xlim(event_vector.min(), event_vector.max())\n",
    "axs[0].set_ylim(-0.5, len(neurons_)-0.5)\n",
    "\n",
    "\n",
    "x_isi_in_time = ISI.compute(spikes_times_aligned[neurons_[0]][t])\n",
    "y_isi_in_time = ISI.compute(spikes_times_aligned[neurons_[1]][t]) \n",
    "ISI_distance_ = ISI.distance(x_isi_in_time, y_isi_in_time)\n",
    "\n",
    "\n",
    "# Create a figure with two subplots\n",
    "# Plot x_isi and y_isi in the first column\n",
    "axs[1].plot(x_isi_in_time, color = 'green', label='x_isi')\n",
    "axs[1].plot(y_isi_in_time, label='y_isi')\n",
    "axs[1].set_ylabel('ISI', fontsize=10)\n",
    "axs[1].legend()\n",
    "\n",
    "# Plot isi_dist in the second column\n",
    "axs[2].plot(ISI_distance_, color='orange')\n",
    "axs[2].set_ylabel('ISI distance', fontsize=10)\n",
    "axs[2].hlines(0, xmin=-500, xmax=ISI_distance_.shape[0]+ 500, colors='gray', linestyles='dashed', linewidth=1)\n",
    "axs[2].set_xlim(-500, ISI_distance_.shape[0] + 500)  # Set x-axis limits\n",
    "\n",
    "plt.tight_layout()"
   ]
  },
  {
   "cell_type": "code",
   "execution_count": null,
   "metadata": {},
   "outputs": [],
   "source": [
    "plt.figure(figsize=(20, 4))\n",
    "ISI_dist_mean = np.zeros([7000])\n",
    "for t in range(n_trials):\n",
    "  x_isi_in_time = ISI.compute(spikes_times_aligned[neurons_[0]][t])\n",
    "  y_isi_in_time = ISI.compute(spikes_times_aligned[neurons_[1]][t]) \n",
    "  ISI_distance_ = ISI.distance(x_isi_in_time, y_isi_in_time)\n",
    "  ISI_dist_mean[:6700] += ISI_distance_[:6700]\n",
    "\n",
    "  plt.plot(ISI_distance_)  \n",
    "plt.plot(ISI_dist_mean/n_trials, linewidth=3, c='k') "
   ]
  },
  {
   "cell_type": "code",
   "execution_count": null,
   "metadata": {},
   "outputs": [],
   "source": [
    "t = 121\n",
    "neurons_ = [0,13]\n",
    "event_vector = df_task_ts.loc[t]\n",
    "\n",
    "fig, axs = plt.subplots(3,1, figsize=(20, 8))\n",
    "\n",
    "# Parcourir tous les neurones et tracer leur spike train\n",
    "for idx, n in enumerate(neurons_) :\n",
    "    spiketrain = spikes_times_aligned[n][t]['spike_train']\n",
    "\n",
    "    if len(spiketrain) > 0 and spiketrain[0] != 0:      \n",
    "        axs[0].eventplot(spiketrain.magnitude, linelengths=0.75, lineoffsets=idx, color='black')\n",
    "for i in range(len(neurons_) - 1):\n",
    "    axs[0].hlines(i+0.5, xmin=event_vector.min(), xmax=event_vector.max(), colors='gray', linestyles='solid', linewidth=0.5)\n",
    "\n",
    "# Définir les étiquettes de l'axe x et l'axe y\n",
    "axs[0].set_xticks(event_vector.values)\n",
    "axs[0].set_xticklabels(event_labels, fontsize=7)\n",
    "axs[0].set_yticks(range(n_neurons))\n",
    "axs[0].set_yticklabels([f\"spike train {n}\" for n in range(n_neurons)], fontsize=10)\n",
    "axs[0].set_title(f\"Trial {t} - neurons : {neurons_}\", fontsize=14)\n",
    "\n",
    "# Ajuster les limites des axes\n",
    "axs[0].set_xlim(event_vector.min(), event_vector.max())\n",
    "axs[0].set_ylim(-0.5, len(neurons_)-0.5)\n",
    "\n",
    "\n",
    "x_isi_in_time = ISI.compute(spikes_times_aligned[neurons_[0]][t])\n",
    "y_isi_in_time = ISI.compute(spikes_times_aligned[neurons_[1]][t]) \n",
    "ISI_distance_ = ISI.distance(x_isi_in_time, y_isi_in_time)\n",
    "\n",
    "\n",
    "# Create a figure with two subplots\n",
    "# Plot x_isi and y_isi in the first column\n",
    "axs[1].plot(x_isi_in_time, color = 'green', label='x_isi')\n",
    "axs[1].plot(y_isi_in_time, label='y_isi')\n",
    "axs[1].set_ylabel('ISI', fontsize=10)\n",
    "axs[1].legend()\n",
    "0\n",
    "# Plot isi_dist in the second column\n",
    "axs[2].plot(ISI_distance_, color='orange')\n",
    "axs[2].set_ylabel('ISI distance', fontsize=10)\n",
    "axs[2].hlines(0, xmin=-500, xmax=ISI_distance_.shape[0]+ 500, colors='gray', linestyles='dashed', linewidth=1)\n",
    "axs[2].set_xlim(-500, ISI_distance_.shape[0] + 500)  # Set x-axis limits\n",
    "\n",
    "plt.tight_layout()"
   ]
  },
  {
   "cell_type": "markdown",
   "metadata": {},
   "source": [
    "# ISI Interpolation"
   ]
  },
  {
   "cell_type": "code",
   "execution_count": null,
   "metadata": {},
   "outputs": [],
   "source": [
    "def get_max_length(n_trials, ISI_distance):\n",
    "    time_ = np.zeros((n_trials), dtype=int)\n",
    "    for t in range(n_trials): \n",
    "        time_[t] = ISI_distance[t].shape[1]\n",
    "    max_length = np.max(time_)\n",
    "\n",
    "    return max_length, time_"
   ]
  },
  {
   "cell_type": "code",
   "execution_count": null,
   "metadata": {},
   "outputs": [],
   "source": [
    "def interpolate_ISI_distance(ISI_distance,  max_length):\n",
    "    len_trial = ISI_distance.shape[0]\n",
    "    ISI_distance_interp_ = np.full(max_length, np.nan)\n",
    "    ISI_distance_interp_[:len_trial] = ISI_distance\n",
    "    return ISI_distance_interp_\n",
    "\n",
    "def interpolate_X_isi(X_isi,  max_length):\n",
    "    len_trial = X_isi.shape[0]\n",
    "    X_isi_interp_ = np.full(max_length, np.nan)\n",
    "    X_isi_interp_ = np.full(max_length, np.nan)\n",
    "    X_isi_interp_[:len_trial] = X_isi\n",
    "    return X_isi_interp_"
   ]
  },
  {
   "cell_type": "code",
   "execution_count": null,
   "metadata": {},
   "outputs": [],
   "source": [
    "max_length, time = get_max_length(n_trials, ISI_distance)\n",
    "ISI_distance_interp = np.zeros((n_trials, max_length, n_pairs), dtype=np.float32)\n",
    "X_isi_interp = np.zeros((n_trials, max_length, n_neurons), dtype=np.float32)\n",
    "\n",
    "\n",
    "for t in range(n_trials):\n",
    "        for p in range(n_pairs):\n",
    "                ISI_distance_interp[t, :, p]  = interpolate_ISI_distance(ISI_distance[t][p], max_length)\n",
    "        for n in range(n_neurons) : \n",
    "                X_isi_interp[t, :, n] = interpolate_X_isi(X_isi[t][n], max_length)\n",
    "        "
   ]
  },
  {
   "cell_type": "code",
   "execution_count": null,
   "metadata": {},
   "outputs": [],
   "source": [
    "ISI_distance_interp.shape"
   ]
  },
  {
   "cell_type": "code",
   "execution_count": null,
   "metadata": {},
   "outputs": [],
   "source": [
    "t = 120\n",
    "neurons_ = [0,1]\n",
    "event_vector = df_task_ts.loc[t]\n",
    "\n",
    "fig, axs = plt.subplots(3,1, figsize=(20, 8))\n",
    "sns.despine()\n",
    "# Parcourir tous les neurones et tracer leur spike train\n",
    "for idx, n in enumerate(neurons_) :\n",
    "    spiketrain = spikes_times_aligned[n][t]['spike_train']\n",
    "\n",
    "    if len(spiketrain) > 0 and spiketrain[0] != 0:      \n",
    "        axs[0].eventplot(spiketrain.magnitude, linelengths=0.75, lineoffsets=idx, color='black')\n",
    "for i in range(len(neurons_) - 1):\n",
    "    axs[0].hlines(i+0.5, xmin=event_vector.min(), xmax=event_vector.max(), colors='gray', linestyles='solid', linewidth=0.5)\n",
    "\n",
    "# Définir les étiquettes de l'axe x et l'axe y\n",
    "axs[0].set_xticks(event_vector.values)\n",
    "axs[0].set_xticklabels(event_labels, fontsize=7)\n",
    "axs[0].set_yticks(range(n_neurons))\n",
    "axs[0].set_yticklabels([f\"spike train {n}\" for n in range(n_neurons)], fontsize=10)\n",
    "axs[0].set_title(f\"Trial {t} - neurons : {neurons_}\", fontsize=14)\n",
    "\n",
    "# Ajuster les limites des axes\n",
    "axs[0].set_xlim(event_vector.min(), event_vector.max())\n",
    "axs[0].set_ylim(-0.5, len(neurons_)-0.5)\n",
    "\n",
    "\n",
    "x_isi_in_time = ISI.compute(spikes_times_aligned[neurons_[0]][t])\n",
    "y_isi_in_time = ISI.compute(spikes_times_aligned[neurons_[1]][t]) \n",
    "ISI_distance_ = ISI.distance(x_isi_in_time, y_isi_in_time)\n",
    "\n",
    "\n",
    "# Create a figure with two subplots\n",
    "# Plot x_isi and y_isi in the first column\n",
    "axs[1].plot(x_isi_in_time, color = 'green', label='x_isi')\n",
    "axs[1].plot(y_isi_in_time, label='y_isi')\n",
    "axs[1].set_ylabel('ISI', fontsize=10)\n",
    "axs[1].legend()\n",
    "0\n",
    "# Plot isi_dist in the second column\n",
    "axs[2].plot(ISI_distance_interp[t,:,0], color='orange')\n",
    "axs[2].set_ylabel('ISI distance', fontsize=10)\n",
    "axs[2].hlines(0, xmin=-500, xmax=ISI_distance_interp[t,:,0].shape[0]+ 500, colors='gray', linestyles='dashed', linewidth=1)\n",
    "axs[2].set_xlim(-500, ISI_distance_interp[t,:,0].shape[0] + 500)  # Set x-axis limits\n",
    "\n"
   ]
  },
  {
   "cell_type": "code",
   "execution_count": null,
   "metadata": {},
   "outputs": [],
   "source": [
    "t = 121\n",
    "neurons_ = [0,1]\n",
    "event_vector = df_task_ts.loc[t]\n",
    "\n",
    "fig, axs = plt.subplots(3, 1, figsize=(20, 8))\n",
    "sns.despine()\n",
    "\n",
    "# Parcourir tous les neurones et tracer leur spike train\n",
    "for idx, n in enumerate(neurons_) :\n",
    "    spiketrain = spikes_times_aligned[n][t]['spike_train']\n",
    "\n",
    "    if len(spiketrain) > 0 and spiketrain[0] != 0:      \n",
    "        axs[0].eventplot(spiketrain.magnitude, linelengths=0.75, lineoffsets=idx, color='black')\n",
    "\n",
    "for i in range(len(neurons_) - 1):\n",
    "    axs[0].hlines(i+0.5, xmin=event_vector.min(), xmax=event_vector.max(), colors='gray', linestyles='solid', linewidth=0.5)\n",
    "\n",
    "# Définir les étiquettes de l'axe x et l'axe y\n",
    "axs[0].set_xticks(event_vector.values)\n",
    "axs[0].set_xticklabels(event_labels, fontsize=7)\n",
    "axs[0].set_yticks(range(n_neurons))\n",
    "axs[0].set_yticklabels([f\"spike train {n}\" for n in range(n_neurons)], fontsize=10)\n",
    "axs[0].set_title(f\"Trial {t} - neurons : {neurons_}\", fontsize=14)\n",
    "\n",
    "# Ajuster les limites des axes\n",
    "axs[0].set_xlim(event_vector.min(), event_vector.max())\n",
    "axs[0].set_ylim(-0.5, len(neurons_)-0.5)\n",
    "\n",
    "x_isi_in_time = ISI.compute(spikes_times_aligned[neurons_[0]][t])\n",
    "y_isi_in_time = ISI.compute(spikes_times_aligned[neurons_[1]][t]) \n",
    "ISI_distance_ = ISI.distance(x_isi_in_time, y_isi_in_time)\n",
    "\n",
    "# Plot x_isi and y_isi in the first column\n",
    "axs[1].plot(x_isi_in_time, color='green', label='x_isi')\n",
    "axs[1].plot(y_isi_in_time, label='y_isi')\n",
    "axs[1].set_ylabel('ISI', fontsize=10)\n",
    "axs[1].legend()\n",
    "\n",
    "# Plot isi_dist in the second column\n",
    "axs[2].plot(ISI_distance_interp[t,:,0], color='orange')\n",
    "axs[2].set_ylabel('ISI distance', fontsize=10)\n",
    "axs[2].hlines(0, xmin=-500, xmax=ISI_distance_interp[t,:,0].shape[0]+ 500, colors='gray', linestyles='dashed', linewidth=1)\n",
    "axs[2].set_xlim(-500, ISI_distance_interp[t,:,0].shape[0] + 500)  # Set x-axis limits\n",
    "\n",
    "# Remove gridlines from all subplots\n",
    "for ax in axs:\n",
    "    ax.grid(False)\n",
    "\n",
    "plt.show()\n"
   ]
  },
  {
   "cell_type": "markdown",
   "metadata": {},
   "source": [
    "# Classif "
   ]
  },
  {
   "cell_type": "code",
   "execution_count": null,
   "metadata": {},
   "outputs": [],
   "source": [
    "from sklearn.preprocessing import StandardScaler\n",
    "from sklearn.ensemble import HistGradientBoostingClassifier\n",
    "from sklearn.model_selection import StratifiedShuffleSplit\n",
    "from sklearn.pipeline import make_pipeline"
   ]
  },
  {
   "cell_type": "code",
   "execution_count": null,
   "metadata": {},
   "outputs": [],
   "source": [
    "# Build pipeline\n",
    "# Build pipeline\n",
    "n_splits = 5\n",
    "# Cross-validation scheme\n",
    "cvs0 = StratifiedShuffleSplit(n_splits=n_splits, test_size=0.2)\n",
    "scaler = StandardScaler()\n",
    "estimator = HistGradientBoostingClassifier()\n",
    "clf = make_pipeline(scaler, estimator)"
   ]
  },
  {
   "cell_type": "code",
   "execution_count": null,
   "metadata": {},
   "outputs": [],
   "source": [
    "target = pd.DataFrame(target_info[completeUnit][1]['Trial_type'], columns=['trial_type'])\n",
    "target['position'] = list_position[completeUnit]\n",
    "\n",
    "n_times = list(np.arange(0, ISI_distance_interp.shape[1], 100))\n",
    "n_bins = len(n_times)"
   ]
  },
  {
   "cell_type": "code",
   "execution_count": null,
   "metadata": {},
   "outputs": [],
   "source": [
    "# Initialiser une liste vide pour stocker les moyennes de bin\n",
    "ISI_mean_bin = []\n",
    "\n",
    "# Calculer les moyennes pour chaque bin et chaque paire\n",
    "for start, end in zip(n_times[:-1], n_times[1:]):\n",
    "    # Extraire les données pour le bin actuel\n",
    "    bin_data = ISI_distance_interp[:, start:end, :]\n",
    "    # Calculer la moyenne sur l'axe des temps\n",
    "    bin_mean = np.nanmean(bin_data, axis=1)\n",
    "    # Convertir les moyennes en DataFrame et les ajouter à la liste\n",
    "    bin_mean_df = pd.DataFrame(bin_mean)\n",
    "    ISI_mean_bin.append(bin_mean_df)"
   ]
  },
  {
   "cell_type": "code",
   "execution_count": null,
   "metadata": {},
   "outputs": [],
   "source": [
    "class Model_info:\n",
    "\n",
    "    def __init__(self, n_splits, n_events, data, target, cvs, clf):\n",
    "        self.n_splits = n_splits\n",
    "        self.n_periods = n_events\n",
    "        self.data = data\n",
    "        self.target = target\n",
    "        self.cvs = cvs\n",
    "        self.clf = clf"
   ]
  },
  {
   "cell_type": "code",
   "execution_count": null,
   "metadata": {},
   "outputs": [],
   "source": [
    "list_ID_model = []\n",
    "\n",
    "for idx, t in enumerate(n_times[:-1]):\n",
    "    model_ID = Model_info(n_splits,\\\n",
    "             n_bins, ISI_mean_bin[idx], target['position'], cvs0, clf)\n",
    "    list_ID_model.append(model_ID)"
   ]
  },
  {
   "cell_type": "code",
   "execution_count": null,
   "metadata": {},
   "outputs": [],
   "source": [
    "list_ID_model[0].target"
   ]
  },
  {
   "cell_type": "code",
   "execution_count": null,
   "metadata": {},
   "outputs": [],
   "source": [
    "list_ID_model[1].data"
   ]
  },
  {
   "cell_type": "code",
   "execution_count": null,
   "metadata": {},
   "outputs": [],
   "source": [
    "acc_df = pd.DataFrame(columns=['split', 'data_type', 'time', 'target_type', 'accuracy'])\n",
    "data_ = list_ID_model[0].data\n",
    "target_ = list_ID_model[0].target\n",
    "for i_split, (train_ind, test_ind) in enumerate(cvs0.split(data_, target_)):\n",
    "    print('#################')\n",
    "    print('SPLIT :', i_split)\n",
    "    print('##################')\n",
    "    \n",
    "    for idx, t in enumerate(n_times[:-1]):\n",
    "        model = list_ID_model[idx]\n",
    "        data = model.data\n",
    "        target = model.target\n",
    "\n",
    "        # Train classifier \n",
    "        model.clf.fit(data.loc[train_ind, :], target.loc[train_ind].values.ravel())\n",
    "    \n",
    "        # Test classifier \n",
    "        y_pred = model.clf.predict(data.loc[test_ind, :])\n",
    "        y_true = target.loc[test_ind].values\n",
    "        acc = model.clf.score(data.loc[test_ind,:], target_.loc[test_ind])\n",
    "\n",
    "        # Save test performance\n",
    "        d = {\n",
    "            'split': i_split,\n",
    "            'data_type': 'test',\n",
    "            'time': [t],\n",
    "            'target_type': target.name, \n",
    "            'accuracy': acc,\n",
    "        }\n",
    "\n",
    "        acc_df = pd.concat((acc_df, pd.DataFrame(data=d)))\n",
    "    \n",
    "        # Train classifier on shuffled data\n",
    "        ind_train_shuf = np.random.permutation(train_ind)\n",
    "        model.clf.fit(data.loc[train_ind, :], target.loc[ind_train_shuf].values.ravel())\n",
    "    \n",
    "        # Test classifier on shuffled data\n",
    "        y_pred_shuf = model.clf.predict(data.loc[test_ind, :])\n",
    "        acc_shuf = model.clf.score(data.loc[test_ind,:], target_.loc[test_ind])\n",
    "        \n",
    "        # Save shuffled performance\n",
    "        d_shuff = {\n",
    "            'split': i_split,\n",
    "            'data_type': 'shuff',\n",
    "            'time': [t],\n",
    "            'target_type': target.name, \n",
    "            'accuracy': acc_shuf\n",
    "        }\n",
    "        acc_df = pd.concat((acc_df, pd.DataFrame(data=d_shuff)), ignore_index=True)\n"
   ]
  },
  {
   "cell_type": "code",
   "execution_count": null,
   "metadata": {},
   "outputs": [],
   "source": []
  },
  {
   "cell_type": "code",
   "execution_count": null,
   "metadata": {},
   "outputs": [],
   "source": [
    "acc_df.to_csv(f'{result_path}/{session}_{classif}_{measure}_position.csv')"
   ]
  },
  {
   "cell_type": "code",
   "execution_count": null,
   "metadata": {},
   "outputs": [],
   "source": [
    "import seaborn as sns\n",
    "import matplotlib.pyplot as plt\n",
    "\n",
    "# Séparez les données par type\n",
    "test_data = acc_df[acc_df['data_type'] == 'test']\n",
    "shuff_data = acc_df[acc_df['data_type'] == 'shuff'] \n",
    "\n",
    "# Définir le style de seaborn\n",
    "sns.set(style=\"whitegrid\")\n",
    "\n",
    "# Tracer les données\n",
    "plt.figure(figsize=(10, 6))\n",
    "\n",
    "# Tracer les données de test\n",
    "sns.lineplot(data=test_data, x='time', y='accuracy', marker='o', linestyle='-', label='Test Data')\n",
    "\n",
    "# Tracer les données de shuffled\n",
    "sns.lineplot(data=shuff_data, x='time', y='accuracy', marker='x', linestyle='--', label='Shuffled Data')\n",
    "\n",
    "# Définir les étiquettes d'axe et le titre\n",
    "plt.xlabel('Time')\n",
    "plt.ylabel('Accuracy')\n",
    "plt.title('Accuracy vs Time')\n",
    "\n",
    "# Afficher la légende\n",
    "plt.legend()\n",
    "\n",
    "# Afficher le tracé\n",
    "plt.show()\n"
   ]
  },
  {
   "cell_type": "code",
   "execution_count": null,
   "metadata": {},
   "outputs": [],
   "source": []
  }
 ],
 "metadata": {
  "kernelspec": {
   "display_name": "env_classif_0423",
   "language": "python",
   "name": "python3"
  },
  "language_info": {
   "codemirror_mode": {
    "name": "ipython",
    "version": 3
   },
   "file_extension": ".py",
   "mimetype": "text/x-python",
   "name": "python",
   "nbconvert_exporter": "python",
   "pygments_lexer": "ipython3",
   "version": "3.11.5"
  }
 },
 "nbformat": 4,
 "nbformat_minor": 2
}
