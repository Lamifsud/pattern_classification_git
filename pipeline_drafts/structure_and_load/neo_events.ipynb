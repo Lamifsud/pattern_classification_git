{
 "cells": [
  {
   "cell_type": "code",
   "execution_count": 1,
   "id": "e1e43b38-8608-4ad4-9565-6bf4b06d6973",
   "metadata": {},
   "outputs": [],
   "source": [
    "from neo.core import Event\n",
    "from quantities import s\n",
    "import numpy as np"
   ]
  },
  {
   "cell_type": "code",
   "execution_count": 2,
   "id": "24981232-2fd8-4e34-bee7-84bb7e38cc0e",
   "metadata": {},
   "outputs": [],
   "source": [
    "evt = Event(np.arange(0, 30, 10)*s,labels=np.array(['trig0', 'trig1', 'trig2'],dtype='U'))"
   ]
  },
  {
   "cell_type": "code",
   "execution_count": 3,
   "id": "f255cc7e-5cf9-4734-9926-d136dc4d581b",
   "metadata": {},
   "outputs": [
    {
     "data": {
      "text/plain": [
       "array([ 0., 10., 20.]) * s"
      ]
     },
     "execution_count": 3,
     "metadata": {},
     "output_type": "execute_result"
    }
   ],
   "source": [
    "evt.times"
   ]
  },
  {
   "cell_type": "code",
   "execution_count": 4,
   "id": "18e6d0ae-62bb-4b1d-81e9-90f125ceeef6",
   "metadata": {},
   "outputs": [
    {
     "data": {
      "text/plain": [
       "array(['trig0', 'trig1', 'trig2'], dtype='<U5')"
      ]
     },
     "execution_count": 4,
     "metadata": {},
     "output_type": "execute_result"
    }
   ],
   "source": [
    "evt.labels"
   ]
  },
  {
   "cell_type": "code",
   "execution_count": 5,
   "id": "3c60faf0-a23d-4563-b8d4-c95994228e5e",
   "metadata": {},
   "outputs": [
    {
     "data": {
      "text/plain": [
       "Event containing 3 events with labels; time units s; datatype float64 "
      ]
     },
     "execution_count": 5,
     "metadata": {},
     "output_type": "execute_result"
    }
   ],
   "source": [
    "evt"
   ]
  },
  {
   "cell_type": "code",
   "execution_count": null,
   "id": "f3fcee2a",
   "metadata": {},
   "outputs": [],
   "source": []
  }
 ],
 "metadata": {
  "interpreter": {
   "hash": "1677e2dcc864b936159311a59e521507be7f68e5fb28f83b5a0cd9cf7d30abf7"
  },
  "kernelspec": {
   "display_name": "Python 3.11.4 ('env_classif')",
   "language": "python",
   "name": "python3"
  },
  "language_info": {
   "codemirror_mode": {
    "name": "ipython",
    "version": 3
   },
   "file_extension": ".py",
   "mimetype": "text/x-python",
   "name": "python",
   "nbconvert_exporter": "python",
   "pygments_lexer": "ipython3",
   "version": "3.11.4"
  }
 },
 "nbformat": 4,
 "nbformat_minor": 5
}
