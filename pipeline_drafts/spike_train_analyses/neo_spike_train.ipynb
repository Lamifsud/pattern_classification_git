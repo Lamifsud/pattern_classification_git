{
 "cells": [
  {
   "cell_type": "markdown",
   "id": "52e21622-bd4c-4655-8b7d-a5bcb84ffca6",
   "metadata": {},
   "source": [
    "# From numpy array to SpikeTrains object"
   ]
  },
  {
   "cell_type": "markdown",
   "id": "c7e003d2-caf7-41e7-84e6-1ebe8cc6c631",
   "metadata": {},
   "source": [
    "https://neo.readthedocs.io/en/stable/api_reference.html#neo.core.SpikeTrain"
   ]
  },
  {
   "cell_type": "code",
   "execution_count": 1,
   "id": "23670b3e-02a7-4c95-9bf3-eafa30112453",
   "metadata": {},
   "outputs": [],
   "source": [
    "from neo.core import SpikeTrain\n",
    "from quantities import s"
   ]
  },
  {
   "cell_type": "code",
   "execution_count": 9,
   "id": "c9b8c6bd-c6be-400d-9020-76f580bd26bc",
   "metadata": {},
   "outputs": [
    {
     "data": {
      "text/plain": [
       "UnitTime('second', 's')"
      ]
     },
     "execution_count": 9,
     "metadata": {},
     "output_type": "execute_result"
    }
   ],
   "source": [
    "s"
   ]
  },
  {
   "cell_type": "code",
   "execution_count": 2,
   "id": "ce2e42aa-2554-4663-ba56-c6c85d553d25",
   "metadata": {},
   "outputs": [],
   "source": [
    "train = SpikeTrain([3, 4, 5]*s, t_stop=10.0)\n",
    "train2 = train[1:3]"
   ]
  },
  {
   "cell_type": "code",
   "execution_count": 3,
   "id": "cb1ffbfb-37ed-444e-bd22-9dcb29afbc32",
   "metadata": {},
   "outputs": [
    {
     "data": {
      "text/plain": [
       "SpikeTrain containing 3 spikes; units s; datatype float64 \n",
       "time: 0.0 s to 10.0 s"
      ]
     },
     "execution_count": 3,
     "metadata": {},
     "output_type": "execute_result"
    }
   ],
   "source": [
    "train"
   ]
  },
  {
   "cell_type": "code",
   "execution_count": 4,
   "id": "71c21f91-9349-4b05-a71e-bc5b8463a19d",
   "metadata": {},
   "outputs": [
    {
     "data": {
      "text/plain": [
       "SpikeTrain containing 2 spikes; units s; datatype float64 \n",
       "time: 0.0 s to 10.0 s"
      ]
     },
     "execution_count": 4,
     "metadata": {},
     "output_type": "execute_result"
    }
   ],
   "source": [
    "train2"
   ]
  },
  {
   "cell_type": "code",
   "execution_count": 6,
   "id": "4174deed-fe9b-4361-97b2-256e7c3bb576",
   "metadata": {},
   "outputs": [
    {
     "data": {
      "text/plain": [
       "array(0.) * s"
      ]
     },
     "execution_count": 6,
     "metadata": {},
     "output_type": "execute_result"
    }
   ],
   "source": [
    "train.t_start"
   ]
  },
  {
   "cell_type": "code",
   "execution_count": 7,
   "id": "5fa93c68-091e-4757-bc7c-ea26b5cdd4c5",
   "metadata": {},
   "outputs": [
    {
     "data": {
      "text/plain": [
       "array(10.) * s"
      ]
     },
     "execution_count": 7,
     "metadata": {},
     "output_type": "execute_result"
    }
   ],
   "source": [
    "train.t_stop"
   ]
  },
  {
   "cell_type": "code",
   "execution_count": 8,
   "id": "a4366526-519d-4fee-ae9e-d17d0f97a870",
   "metadata": {},
   "outputs": [
    {
     "name": "stdout",
     "output_type": "stream",
     "text": [
      "[3. 4. 5.] s\n"
     ]
    }
   ],
   "source": [
    "print(train)"
   ]
  },
  {
   "cell_type": "code",
   "execution_count": null,
   "id": "0b6aac09-56e9-40a7-92d8-f0fbcfbefac6",
   "metadata": {},
   "outputs": [],
   "source": []
  }
 ],
 "metadata": {
  "interpreter": {
   "hash": "77a3902089f483e3efa9860b1b2224fe0ce8cc5dcd2206c8aa68900418460358"
  },
  "kernelspec": {
   "display_name": "Python 3.11.4 ('courseML_phd2023')",
   "language": "python",
   "name": "python3"
  },
  "language_info": {
   "codemirror_mode": {
    "name": "ipython",
    "version": 3
   },
   "file_extension": ".py",
   "mimetype": "text/x-python",
   "name": "python",
   "nbconvert_exporter": "python",
   "pygments_lexer": "ipython3",
   "version": "3.11.4"
  }
 },
 "nbformat": 4,
 "nbformat_minor": 5
}
