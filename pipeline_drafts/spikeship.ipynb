{
 "cells": [
  {
   "cell_type": "code",
   "execution_count": 1,
   "metadata": {},
   "outputs": [],
   "source": [
    "#from structure_and_load import load\n",
    "import matplotlib.pyplot as plt \n",
    "import numpy as np\n",
    "import pandas as pd\n",
    "import scipy.ndimage as spn \n",
    "import seaborn as sns\n",
    "\n",
    "from sklearn.preprocessing import StandardScaler\n",
    "from sklearn.ensemble import HistGradientBoostingClassifier\n",
    "from sklearn.model_selection import StratifiedShuffleSplit\n",
    "from sklearn.pipeline import make_pipeline\n",
    "\n",
    "from open_data  import matlab_file\n",
    "from structure_data import  manage, struct_tools\n",
    "from measures import ISI, FiringRate, tools\n",
    "from classify import HistGrad\n",
    "\n",
    "import re\n",
    "import neo \n",
    "from neo.core import Event\n",
    "from quantities import s \n",
    "from quantities import millisecond as ms\n",
    "\n",
    "\n",
    "import os\n",
    "import sys\n",
    "\n",
    "%load_ext autoreload\n",
    "%autoreload 2"
   ]
  },
  {
   "cell_type": "markdown",
   "metadata": {},
   "source": [
    "# Load and format data"
   ]
  },
  {
   "cell_type": "markdown",
   "metadata": {},
   "source": [
    "### Load data"
   ]
  },
  {
   "cell_type": "code",
   "execution_count": 2,
   "metadata": {},
   "outputs": [
    {
     "name": "stdout",
     "output_type": "stream",
     "text": [
      "\n",
      "43 files loaded\n"
     ]
    }
   ],
   "source": [
    "#Load\n",
    "session, data_path, info_path = matlab_file.from_lab(lab_desktop=True, session='t150204001')\n",
    "data, load_info = matlab_file.open(data_path)\n",
    "session_info_raw = matlab_file.clean(info_path)"
   ]
  },
  {
   "cell_type": "code",
   "execution_count": 3,
   "metadata": {},
   "outputs": [
    {
     "name": "stdout",
     "output_type": "stream",
     "text": [
      "Complete unit found ! \n",
      "loading index = 2\n",
      "matfile : t150204001_probe1_contact3_unit1.mat\n"
     ]
    },
    {
     "data": {
      "text/plain": [
       "['P1-23-2', 'P1-5-1', 'P1-3-1', 'P1-1-1', 'P2-6-1']"
      ]
     },
     "execution_count": 3,
     "metadata": {},
     "output_type": "execute_result"
    }
   ],
   "source": [
    "# get sessions and units information (unit, prob, elitrials)\n",
    "info_units,  info_session = manage.info(load_info, session_info_raw, session)\n",
    "unit_label, unit_labelProbe1, unit_labelProbe2, count_unitProbe = manage.units_label(info_units)\n",
    "# manage elitrials format\n",
    "info_session['elitrials'] = info_session['elitrials'].apply(manage.elitrials)\n",
    "# get unit's index without eli trials \n",
    "completeUnit = manage.CompleteTasktime(info_session, load_info, session)\n",
    "unit_label[:5]"
   ]
  },
  {
   "cell_type": "code",
   "execution_count": 4,
   "metadata": {},
   "outputs": [],
   "source": [
    "spike_times, task_times, target_info = matlab_file.extract_data(\\\n",
    "        load_info, data, target_keys_OFF=['SC1_dir', 'SC2_dir', 'SC3_dir', 'Trial_type'],\\\n",
    "        target_keys_ON=['SC1_dir', 'SC2_dir', 'SC3_dir', 'Trial_type'], \\\n",
    "        event_keys_OFF=['Sel_OFF', 'SC1_OFF', 'SC2_OFF', 'SC3_OFF'])"
   ]
  },
  {
   "cell_type": "markdown",
   "metadata": {},
   "source": [
    "### Format spike times "
   ]
  },
  {
   "cell_type": "code",
   "execution_count": 5,
   "metadata": {},
   "outputs": [],
   "source": [
    "event_labels = matlab_file.get_event_labels(task_times)\n",
    "event_times = matlab_file.get_event_times(task_times, event_labels)\n",
    "# reshape times by trials / periods for each neuron + Neo format\n",
    "trials_ts, df_task_ts_by_neuron, events = manage.events_by_trial(event_times, event_labels)"
   ]
  },
  {
   "cell_type": "code",
   "execution_count": 6,
   "metadata": {},
   "outputs": [
    {
     "name": "stdout",
     "output_type": "stream",
     "text": [
      "times as list : [3047992 3049069 3050391 3051713 3053021 3054320 3054799]\n",
      "times as neo events : [3047992. 3049069. 3050391. 3051713. 3053021. 3054320. 3054799.] ms\n",
      "spike train sample : [    237    2137    3267 ... 3657198 3657250 3658579]\n",
      "events : ['Touch_time', 'Sel_ON', 'SC1_ON', 'SC2_ON', 'SC3_ON', 'Go_time', 'Target_time']\n",
      "targets : dict_keys(['Touch_time', 'Sel_ON', 'SC1_ON', 'SC2_ON', 'SC3_ON', 'Go_time', 'Target_time'])\n"
     ]
    }
   ],
   "source": [
    "unit_ = 32\n",
    "trial_ = 12\n",
    "print(f'times as list : {trials_ts[unit_][1][trial_]}')\n",
    "print(f'times as neo events : {events[unit_][1][trial_].times}')\n",
    "print(f'spike train sample : {spike_times[0][1]}\\nevents : {event_labels}\\ntargets : {task_times[0][1].keys()}')\n"
   ]
  },
  {
   "cell_type": "code",
   "execution_count": 7,
   "metadata": {},
   "outputs": [
    {
     "data": {
      "text/html": [
       "<div>\n",
       "<style scoped>\n",
       "    .dataframe tbody tr th:only-of-type {\n",
       "        vertical-align: middle;\n",
       "    }\n",
       "\n",
       "    .dataframe tbody tr th {\n",
       "        vertical-align: top;\n",
       "    }\n",
       "\n",
       "    .dataframe thead th {\n",
       "        text-align: right;\n",
       "    }\n",
       "</style>\n",
       "<table border=\"1\" class=\"dataframe\">\n",
       "  <thead>\n",
       "    <tr style=\"text-align: right;\">\n",
       "      <th></th>\n",
       "      <th>Touch_time</th>\n",
       "      <th>Sel_ON</th>\n",
       "      <th>SC1_ON</th>\n",
       "      <th>SC2_ON</th>\n",
       "      <th>SC3_ON</th>\n",
       "      <th>Go_time</th>\n",
       "      <th>Target_time</th>\n",
       "    </tr>\n",
       "  </thead>\n",
       "  <tbody>\n",
       "    <tr>\n",
       "      <th>171</th>\n",
       "      <td>3427744</td>\n",
       "      <td>3428813</td>\n",
       "      <td>3430132</td>\n",
       "      <td>3431440</td>\n",
       "      <td>3432749</td>\n",
       "      <td>3434034</td>\n",
       "      <td>3434577</td>\n",
       "    </tr>\n",
       "    <tr>\n",
       "      <th>172</th>\n",
       "      <td>3488819</td>\n",
       "      <td>3489885</td>\n",
       "      <td>3491206</td>\n",
       "      <td>3492515</td>\n",
       "      <td>3493823</td>\n",
       "      <td>3495121</td>\n",
       "      <td>3495791</td>\n",
       "    </tr>\n",
       "    <tr>\n",
       "      <th>173</th>\n",
       "      <td>3498993</td>\n",
       "      <td>3500111</td>\n",
       "      <td>3501419</td>\n",
       "      <td>3502727</td>\n",
       "      <td>3504049</td>\n",
       "      <td>3505334</td>\n",
       "      <td>3506030</td>\n",
       "    </tr>\n",
       "    <tr>\n",
       "      <th>174</th>\n",
       "      <td>3518800</td>\n",
       "      <td>3519868</td>\n",
       "      <td>3521190</td>\n",
       "      <td>3522498</td>\n",
       "      <td>3523823</td>\n",
       "      <td>3525133</td>\n",
       "      <td>3525652</td>\n",
       "    </tr>\n",
       "    <tr>\n",
       "      <th>175</th>\n",
       "      <td>3534627</td>\n",
       "      <td>3535700</td>\n",
       "      <td>3537009</td>\n",
       "      <td>3538317</td>\n",
       "      <td>3539639</td>\n",
       "      <td>3540937</td>\n",
       "      <td>3541739</td>\n",
       "    </tr>\n",
       "  </tbody>\n",
       "</table>\n",
       "</div>"
      ],
      "text/plain": [
       "     Touch_time   Sel_ON   SC1_ON   SC2_ON   SC3_ON  Go_time  Target_time\n",
       "171     3427744  3428813  3430132  3431440  3432749  3434034      3434577\n",
       "172     3488819  3489885  3491206  3492515  3493823  3495121      3495791\n",
       "173     3498993  3500111  3501419  3502727  3504049  3505334      3506030\n",
       "174     3518800  3519868  3521190  3522498  3523823  3525133      3525652\n",
       "175     3534627  3535700  3537009  3538317  3539639  3540937      3541739"
      ]
     },
     "execution_count": 7,
     "metadata": {},
     "output_type": "execute_result"
    }
   ],
   "source": [
    "# get dataframe with each events times per trials for a complete session\n",
    "tot_trials_in_task = trials_ts[completeUnit][1].shape[0]\n",
    "df_task_ts = pd.DataFrame(trials_ts[completeUnit][1], columns=event_labels, index=np.arange(0, tot_trials_in_task))\n",
    "df_task_ts.tail()"
   ]
  },
  {
   "cell_type": "markdown",
   "metadata": {},
   "source": [
    "### Format target"
   ]
  },
  {
   "cell_type": "code",
   "execution_count": 8,
   "metadata": {},
   "outputs": [
    {
     "data": {
      "text/html": [
       "<div>\n",
       "<style scoped>\n",
       "    .dataframe tbody tr th:only-of-type {\n",
       "        vertical-align: middle;\n",
       "    }\n",
       "\n",
       "    .dataframe tbody tr th {\n",
       "        vertical-align: top;\n",
       "    }\n",
       "\n",
       "    .dataframe thead th {\n",
       "        text-align: right;\n",
       "    }\n",
       "</style>\n",
       "<table border=\"1\" class=\"dataframe\">\n",
       "  <thead>\n",
       "    <tr style=\"text-align: right;\">\n",
       "      <th></th>\n",
       "      <th>trial_type</th>\n",
       "      <th>position</th>\n",
       "      <th>type_and_pos</th>\n",
       "    </tr>\n",
       "  </thead>\n",
       "  <tbody>\n",
       "    <tr>\n",
       "      <th>0</th>\n",
       "      <td>1</td>\n",
       "      <td>2</td>\n",
       "      <td>0</td>\n",
       "    </tr>\n",
       "    <tr>\n",
       "      <th>1</th>\n",
       "      <td>1</td>\n",
       "      <td>2</td>\n",
       "      <td>0</td>\n",
       "    </tr>\n",
       "    <tr>\n",
       "      <th>2</th>\n",
       "      <td>1</td>\n",
       "      <td>3</td>\n",
       "      <td>1</td>\n",
       "    </tr>\n",
       "    <tr>\n",
       "      <th>3</th>\n",
       "      <td>1</td>\n",
       "      <td>3</td>\n",
       "      <td>1</td>\n",
       "    </tr>\n",
       "    <tr>\n",
       "      <th>4</th>\n",
       "      <td>1</td>\n",
       "      <td>4</td>\n",
       "      <td>2</td>\n",
       "    </tr>\n",
       "    <tr>\n",
       "      <th>...</th>\n",
       "      <td>...</td>\n",
       "      <td>...</td>\n",
       "      <td>...</td>\n",
       "    </tr>\n",
       "    <tr>\n",
       "      <th>171</th>\n",
       "      <td>1</td>\n",
       "      <td>3</td>\n",
       "      <td>1</td>\n",
       "    </tr>\n",
       "    <tr>\n",
       "      <th>172</th>\n",
       "      <td>2</td>\n",
       "      <td>3</td>\n",
       "      <td>4</td>\n",
       "    </tr>\n",
       "    <tr>\n",
       "      <th>173</th>\n",
       "      <td>2</td>\n",
       "      <td>4</td>\n",
       "      <td>5</td>\n",
       "    </tr>\n",
       "    <tr>\n",
       "      <th>174</th>\n",
       "      <td>2</td>\n",
       "      <td>4</td>\n",
       "      <td>5</td>\n",
       "    </tr>\n",
       "    <tr>\n",
       "      <th>175</th>\n",
       "      <td>2</td>\n",
       "      <td>4</td>\n",
       "      <td>5</td>\n",
       "    </tr>\n",
       "  </tbody>\n",
       "</table>\n",
       "<p>176 rows × 3 columns</p>\n",
       "</div>"
      ],
      "text/plain": [
       "     trial_type  position  type_and_pos\n",
       "0             1         2             0\n",
       "1             1         2             0\n",
       "2             1         3             1\n",
       "3             1         3             1\n",
       "4             1         4             2\n",
       "..          ...       ...           ...\n",
       "171           1         3             1\n",
       "172           2         3             4\n",
       "173           2         4             5\n",
       "174           2         4             5\n",
       "175           2         4             5\n",
       "\n",
       "[176 rows x 3 columns]"
      ]
     },
     "execution_count": 8,
     "metadata": {},
     "output_type": "execute_result"
    }
   ],
   "source": [
    "target = manage.target_by_trials(target_info, completeUnit)\n",
    "target"
   ]
  },
  {
   "cell_type": "markdown",
   "metadata": {},
   "source": [
    "### Format trials"
   ]
  },
  {
   "cell_type": "code",
   "execution_count": 9,
   "metadata": {},
   "outputs": [
    {
     "name": "stderr",
     "output_type": "stream",
     "text": [
      "/home/INT/mifsud.l/Bureau/pattern_classification_git/pipeline_drafts/structure_data/manage.py:360: FutureWarning: Series.__getitem__ treating keys as positions is deprecated. In a future version, integer keys will always be treated as labels (consistent with DataFrame behavior). To access a value by position, use `ser.iloc[pos]`\n",
      "  t_start = data.iloc[idx_trial_valid][1]\n",
      "/home/INT/mifsud.l/Bureau/pattern_classification_git/pipeline_drafts/structure_data/manage.py:361: FutureWarning: Series.__getitem__ treating keys as positions is deprecated. In a future version, integer keys will always be treated as labels (consistent with DataFrame behavior). To access a value by position, use `ser.iloc[pos]`\n",
      "  t_stop = data.iloc[idx_trial_valid][-1]\n",
      "/home/INT/mifsud.l/Bureau/pattern_classification_git/pipeline_drafts/structure_data/manage.py:383: FutureWarning: Series.__getitem__ treating keys as positions is deprecated. In a future version, integer keys will always be treated as labels (consistent with DataFrame behavior). To access a value by position, use `ser.iloc[pos]`\n",
      "  t_start_nan = df_task_ts.iloc[idx_trial_nan][0]\n",
      "/home/INT/mifsud.l/Bureau/pattern_classification_git/pipeline_drafts/structure_data/manage.py:384: FutureWarning: Series.__getitem__ treating keys as positions is deprecated. In a future version, integer keys will always be treated as labels (consistent with DataFrame behavior). To access a value by position, use `ser.iloc[pos]`\n",
      "  t_stop_nan = df_task_ts.iloc[idx_trial_nan][-1]\n"
     ]
    }
   ],
   "source": [
    "# align times by trials for each neurons\n",
    "df_task_ts_by_neuron = manage.time_by_trials(df_task_ts_by_neuron, df_task_ts, event_labels)\n",
    "df_task_ts_by_neuron[0][1]\n",
    "\n",
    "# split the spike time vector by trial\n",
    "spk_trials, spike_train_trial = manage.spike_ts_by_trial(trials_ts, spike_times)\n",
    "spikes_times_aligned = manage.spike_ts_aligned(df_task_ts, df_task_ts_by_neuron, spike_times, unit_label, spike_train_trial)"
   ]
  },
  {
   "cell_type": "markdown",
   "metadata": {},
   "source": [
    "# Raster plot"
   ]
  },
  {
   "cell_type": "code",
   "execution_count": 10,
   "metadata": {},
   "outputs": [
    {
     "data": {
      "image/png": "[encoded data removed]",
      "text/plain": [
       "<Figure size 3000x1000 with 1 Axes>"
      ]
     },
     "metadata": {},
     "output_type": "display_data"
    }
   ],
   "source": [
    "n_neurons = spikes_times_aligned.shape[0]\n",
    "n_trials = spikes_times_aligned.shape[1]\n",
    "\n",
    "t = 0\n",
    "event_vector = df_task_ts.loc[t]\n",
    "\n",
    "plt.figure(figsize=(30, 10))  # Ajustez la taille de la figure selon vos besoins\n",
    "\n",
    "# Parcourir tous les neurones et tracer leur spike train\n",
    "for n in range(n_neurons): \n",
    "    spiketrain = spikes_times_aligned[n][t]['spike_train']\n",
    "    if len(spiketrain) > 0 and spiketrain[0] != 0:      \n",
    "        plt.eventplot(spiketrain.magnitude, linelengths=0.75, lineoffsets=n, color='black')\n",
    "for i in range(n_neurons - 1):\n",
    "    plt.hlines(i+0.5, xmin=event_vector.min(), xmax=event_vector.max(), colors='gray', linestyles='solid', linewidth=0.5)\n",
    "\n",
    "# Définir les étiquettes de l'axe x et l'axe y\n",
    "plt.xticks(event_vector.values, event_labels, fontsize=7)\n",
    "plt.yticks(range(n_neurons), [f\"{i}\" for i in range(n_neurons)], fontsize=8)\n",
    "plt.title(f\"Spike Trains for Trial {t}\", fontsize=16)\n",
    "\n",
    "# Ajuster les limites des axes\n",
    "plt.xlim(event_vector.min(), event_vector.max())\n",
    "plt.ylim(-0.5, 42.5)\n",
    "\n",
    "plt.show()\n"
   ]
  },
  {
   "cell_type": "code",
   "execution_count": 11,
   "metadata": {},
   "outputs": [],
   "source": [
    "import numpy as np\n",
    "\n",
    "def get_spike_times_vect(spikes_times_aligned):\n",
    "    n_trials = spikes_times_aligned.shape[1]\n",
    "    n_neurons = spikes_times_aligned.shape[0]\n",
    "    spk_times = np.zeros((n_trials, n_neurons), dtype=object)\n",
    "    last_spike = np.full((n_trials, n_neurons), np.nan)\n",
    "\n",
    "    for n in range(n_neurons):\n",
    "        for t in range(n_trials):\n",
    "            if (spikes_times_aligned[n][t]['spike_time'].size > 0) and (spikes_times_aligned[n][t]['spike_time'][0] != 0):\n",
    "                spk_times[t, n] = spikes_times_aligned[n][t]['spike_time']\n",
    "                last_spike[t, n] = spikes_times_aligned[n][t]['spike_time'].max()\n",
    "            else:\n",
    "                # Handle the case when the array is empty\n",
    "                spk_times[t, n] = np.full(1, np.nan)\n",
    "                last_spike[t, n] = np.array(np.nan)  # Or any other value you deem appropriate\n",
    "\n",
    "    # Concatenate while preserving NaN values\n",
    "    concatenated_spk_times = []\n",
    "    for spk_time in spk_times.flatten():\n",
    "        if isinstance(spk_time, np.ndarray):\n",
    "            concatenated_spk_times.extend(spk_time)\n",
    "        else:\n",
    "            concatenated_spk_times.append(np.array(np.nan))\n",
    "\n",
    "    return np.array(concatenated_spk_times), last_spike, spk_times\n"
   ]
  },
  {
   "cell_type": "code",
   "execution_count": 12,
   "metadata": {},
   "outputs": [],
   "source": [
    "spike_times_vec, last_spikes, spk_ts = get_spike_times_vect(spikes_times_aligned)"
   ]
  },
  {
   "cell_type": "code",
   "execution_count": 13,
   "metadata": {},
   "outputs": [],
   "source": [
    "epochs = struct_tools.create_epochs(spikes_times_aligned)\n",
    "channels = np.arange(0, n_neurons)"
   ]
  },
  {
   "cell_type": "code",
   "execution_count": 14,
   "metadata": {},
   "outputs": [],
   "source": [
    "# Initialize ii_spike_times array\n",
    "ii_spike_times = np.zeros((len(epochs), len(channels), 2), dtype=object)\n",
    "\n",
    "start_idx = 0\n",
    "for epoch_idx, epoch in enumerate(epochs):\n",
    "    for channel_idx, channel in enumerate(channels):\n",
    "        ii_spike_times[epoch_idx, channel_idx, 0] = start_idx\n",
    "        stop_idx = start_idx + spk_ts[epoch_idx,channel_idx].shape[0]\n",
    "        ii_spike_times[epoch_idx, channel_idx, 1] = stop_idx\n",
    "        start_idx = stop_idx"
   ]
  },
  {
   "cell_type": "code",
   "execution_count": 15,
   "metadata": {},
   "outputs": [
    {
     "data": {
      "text/plain": [
       "array([[0, 39],\n",
       "       [39, 40],\n",
       "       [40, 83],\n",
       "       [83, 84],\n",
       "       [84, 85],\n",
       "       [85, 86],\n",
       "       [86, 87],\n",
       "       [87, 88],\n",
       "       [88, 132],\n",
       "       [132, 133],\n",
       "       [133, 134],\n",
       "       [134, 135],\n",
       "       [135, 136],\n",
       "       [136, 181],\n",
       "       [181, 368],\n",
       "       [368, 381],\n",
       "       [381, 570],\n",
       "       [570, 571],\n",
       "       [571, 572],\n",
       "       [572, 573],\n",
       "       [573, 574],\n",
       "       [574, 575],\n",
       "       [575, 583],\n",
       "       [583, 584],\n",
       "       [584, 585],\n",
       "       [585, 586],\n",
       "       [586, 587],\n",
       "       [587, 601],\n",
       "       [601, 617],\n",
       "       [617, 618],\n",
       "       [618, 619],\n",
       "       [619, 620],\n",
       "       [620, 621],\n",
       "       [621, 667],\n",
       "       [667, 668],\n",
       "       [668, 669],\n",
       "       [669, 1045],\n",
       "       [1045, 1282],\n",
       "       [1282, 1477],\n",
       "       [1477, 1560],\n",
       "       [1560, 1561],\n",
       "       [1561, 1762],\n",
       "       [1762, 1763]], dtype=object)"
      ]
     },
     "execution_count": 15,
     "metadata": {},
     "output_type": "execute_result"
    }
   ],
   "source": [
    "ii_spike_times[0]"
   ]
  },
  {
   "cell_type": "markdown",
   "metadata": {},
   "source": [
    "# SpikeShip Demo"
   ]
  },
  {
   "cell_type": "code",
   "execution_count": 16,
   "metadata": {},
   "outputs": [
    {
     "name": "stderr",
     "output_type": "stream",
     "text": [
      "/home/INT/mifsud.l/env_classif_0423/lib/python3.11/site-packages/numba/core/decorators.py:250: RuntimeWarning: nopython is set for njit and is ignored\n",
      "  warnings.warn('nopython is set for njit and is ignored', RuntimeWarning)\n"
     ]
    }
   ],
   "source": [
    "from spikeship import spikeship, tools"
   ]
  },
  {
   "cell_type": "code",
   "execution_count": 17,
   "metadata": {},
   "outputs": [
    {
     "name": "stdout",
     "output_type": "stream",
     "text": [
      "ii_spike_times.shape (176, 43, 2)\n",
      "# epochs = 176\n",
      "# neurons = 43\n"
     ]
    }
   ],
   "source": [
    "print (\"ii_spike_times.shape\", ii_spike_times.shape)\n",
    "print (\"# epochs =\", ii_spike_times.shape[0])\n",
    "print (\"# neurons =\",ii_spike_times.shape[1])"
   ]
  },
  {
   "cell_type": "code",
   "execution_count": 19,
   "metadata": {},
   "outputs": [
    {
     "ename": "TypingError",
     "evalue": "Failed in nopython mode pipeline (step: nopython frontend)\nnon-precise type array(pyobject, 3d, C)\nDuring: typing of argument at /home/INT/mifsud.l/Bureau/pattern_classification_git/pipeline_drafts/spikeship/spikeship.py (205)\n\nFile \"spikeship/spikeship.py\", line 205:\ndef _areAllOnes(arr):\n    <source elided>\n\n@jit(nopython=True, cache=True, parallel=True)\n^\n",
     "output_type": "error",
     "traceback": [
      "\u001b[0;31m---------------------------------------------------------------------------\u001b[0m",
      "\u001b[0;31mTypingError\u001b[0m                               Traceback (most recent call last)",
      "Cell \u001b[0;32mIn[19], line 2\u001b[0m\n\u001b[1;32m      1\u001b[0m spike_times \u001b[38;5;241m=\u001b[39m spike_times_vec\n\u001b[0;32m----> 2\u001b[0m spikeship_diss \u001b[38;5;241m=\u001b[39m \u001b[43mspikeship\u001b[49m\u001b[38;5;241;43m.\u001b[39;49m\u001b[43mdistances\u001b[49m\u001b[43m(\u001b[49m\u001b[43mspike_times\u001b[49m\u001b[43m,\u001b[49m\u001b[43m \u001b[49m\u001b[43mii_spike_times\u001b[49m\u001b[43m)\u001b[49m\n",
      "File \u001b[0;32m~/Bureau/pattern_classification_git/pipeline_drafts/spikeship/spikeship.py:342\u001b[0m, in \u001b[0;36mdistances\u001b[0;34m(spike_times, ii_spike_times, num_threads)\u001b[0m\n\u001b[1;32m    336\u001b[0m epoch_index_pairs \u001b[38;5;241m=\u001b[39m np\u001b[38;5;241m.\u001b[39marray(\n\u001b[1;32m    337\u001b[0m \t\u001b[38;5;28mlist\u001b[39m(itertools\u001b[38;5;241m.\u001b[39mcombinations(\u001b[38;5;28mrange\u001b[39m(n_epochs), \u001b[38;5;241m2\u001b[39m)),\n\u001b[1;32m    338\u001b[0m \tdtype\u001b[38;5;241m=\u001b[39m\u001b[38;5;28mint\u001b[39m)\n\u001b[1;32m    340\u001b[0m set_nthreads(num_threads)\n\u001b[0;32m--> 342\u001b[0m \u001b[38;5;28;01mreturn\u001b[39;00m \u001b[43mdistances_SpikeShip\u001b[49m\u001b[43m(\u001b[49m\u001b[43mii_spike_times\u001b[49m\u001b[43m,\u001b[49m\u001b[43m \u001b[49m\u001b[43mspike_times\u001b[49m\u001b[43m,\u001b[49m\u001b[43m \u001b[49m\u001b[43mepoch_index_pairs\u001b[49m\u001b[43m)\u001b[49m\n",
      "File \u001b[0;32m~/env_classif_0423/lib/python3.11/site-packages/numba/core/dispatcher.py:468\u001b[0m, in \u001b[0;36m_DispatcherBase._compile_for_args\u001b[0;34m(self, *args, **kws)\u001b[0m\n\u001b[1;32m    464\u001b[0m         msg \u001b[38;5;241m=\u001b[39m (\u001b[38;5;124mf\u001b[39m\u001b[38;5;124m\"\u001b[39m\u001b[38;5;132;01m{\u001b[39;00m\u001b[38;5;28mstr\u001b[39m(e)\u001b[38;5;241m.\u001b[39mrstrip()\u001b[38;5;132;01m}\u001b[39;00m\u001b[38;5;124m \u001b[39m\u001b[38;5;130;01m\\n\u001b[39;00m\u001b[38;5;130;01m\\n\u001b[39;00m\u001b[38;5;124mThis error may have been caused \u001b[39m\u001b[38;5;124m\"\u001b[39m\n\u001b[1;32m    465\u001b[0m                \u001b[38;5;124mf\u001b[39m\u001b[38;5;124m\"\u001b[39m\u001b[38;5;124mby the following argument(s):\u001b[39m\u001b[38;5;130;01m\\n\u001b[39;00m\u001b[38;5;132;01m{\u001b[39;00margs_str\u001b[38;5;132;01m}\u001b[39;00m\u001b[38;5;130;01m\\n\u001b[39;00m\u001b[38;5;124m\"\u001b[39m)\n\u001b[1;32m    466\u001b[0m         e\u001b[38;5;241m.\u001b[39mpatch_message(msg)\n\u001b[0;32m--> 468\u001b[0m     \u001b[43merror_rewrite\u001b[49m\u001b[43m(\u001b[49m\u001b[43me\u001b[49m\u001b[43m,\u001b[49m\u001b[43m \u001b[49m\u001b[38;5;124;43m'\u001b[39;49m\u001b[38;5;124;43mtyping\u001b[39;49m\u001b[38;5;124;43m'\u001b[39;49m\u001b[43m)\u001b[49m\n\u001b[1;32m    469\u001b[0m \u001b[38;5;28;01mexcept\u001b[39;00m errors\u001b[38;5;241m.\u001b[39mUnsupportedError \u001b[38;5;28;01mas\u001b[39;00m e:\n\u001b[1;32m    470\u001b[0m     \u001b[38;5;66;03m# Something unsupported is present in the user code, add help info\u001b[39;00m\n\u001b[1;32m    471\u001b[0m     error_rewrite(e, \u001b[38;5;124m'\u001b[39m\u001b[38;5;124munsupported_error\u001b[39m\u001b[38;5;124m'\u001b[39m)\n",
      "File \u001b[0;32m~/env_classif_0423/lib/python3.11/site-packages/numba/core/dispatcher.py:409\u001b[0m, in \u001b[0;36m_DispatcherBase._compile_for_args.<locals>.error_rewrite\u001b[0;34m(e, issue_type)\u001b[0m\n\u001b[1;32m    407\u001b[0m     \u001b[38;5;28;01mraise\u001b[39;00m e\n\u001b[1;32m    408\u001b[0m \u001b[38;5;28;01melse\u001b[39;00m:\n\u001b[0;32m--> 409\u001b[0m     \u001b[38;5;28;01mraise\u001b[39;00m e\u001b[38;5;241m.\u001b[39mwith_traceback(\u001b[38;5;28;01mNone\u001b[39;00m)\n",
      "\u001b[0;31mTypingError\u001b[0m: Failed in nopython mode pipeline (step: nopython frontend)\nnon-precise type array(pyobject, 3d, C)\nDuring: typing of argument at /home/INT/mifsud.l/Bureau/pattern_classification_git/pipeline_drafts/spikeship/spikeship.py (205)\n\nFile \"spikeship/spikeship.py\", line 205:\ndef _areAllOnes(arr):\n    <source elided>\n\n@jit(nopython=True, cache=True, parallel=True)\n^\n"
     ]
    }
   ],
   "source": [
    "spike_times = spike_times_vec\n",
    "spikeship_diss = spikeship.distances(spike_times, ii_spike_times)"
   ]
  },
  {
   "cell_type": "code",
   "execution_count": null,
   "metadata": {},
   "outputs": [],
   "source": []
  }
 ],
 "metadata": {
  "kernelspec": {
   "display_name": "spikeship",
   "language": "python",
   "name": "python3"
  },
  "language_info": {
   "codemirror_mode": {
    "name": "ipython",
    "version": 3
   },
   "file_extension": ".py",
   "mimetype": "text/x-python",
   "name": "python",
   "nbconvert_exporter": "python",
   "pygments_lexer": "ipython3",
   "version": "3.11.5"
  }
 },
 "nbformat": 4,
 "nbformat_minor": 2
}
